{
 "cells": [
  {
   "cell_type": "markdown",
   "id": "20549885",
   "metadata": {},
   "source": [
    "# 使用 Milvus 和 DeepSeek 构建 RAG\n",
    "\n",
    "DeepSeek 帮助开发者使用高性能语言模型构建和扩展 AI 应用。它提供高效的推理、灵活的 API 以及先进的专家混合 (MoE) 架构，用于强大的推理和检索任务。\n",
    "\n",
    "在本教程中，我们将展示如何使用 Milvus 和 DeepSeek 构建一个检索增强生成 (RAG) 管道。"
   ]
  },
  {
   "cell_type": "markdown",
   "id": "7394c701",
   "metadata": {},
   "source": [
    "## 准备工作"
   ]
  },
  {
   "cell_type": "markdown",
   "id": "89103a1e",
   "metadata": {},
   "source": [
    "### 依赖与环境"
   ]
  },
  {
   "cell_type": "code",
   "id": "9c18d7b4",
   "metadata": {
    "ExecuteTime": {
     "end_time": "2025-08-07T12:56:49.881670Z",
     "start_time": "2025-08-07T12:56:46.961961Z"
    }
   },
   "source": [
    "!pip install \"pymilvus[model]==2.5.10\" openai==1.82.0 requests==2.32.3 tqdm==4.67.1 torch==2.7.0"
   ],
   "outputs": [
    {
     "name": "stdout",
     "output_type": "stream",
     "text": [
      "Looking in indexes: https://mirrors.aliyun.com/pypi/simple/\r\n",
      "Requirement already satisfied: pymilvus==2.5.10 in /root/miniconda3/envs/deepseek/lib/python3.13/site-packages (from pymilvus[model]==2.5.10) (2.5.10)\r\n",
      "Requirement already satisfied: openai==1.82.0 in /root/miniconda3/envs/deepseek/lib/python3.13/site-packages (1.82.0)\r\n",
      "Requirement already satisfied: requests==2.32.3 in /root/miniconda3/envs/deepseek/lib/python3.13/site-packages (2.32.3)\r\n",
      "Requirement already satisfied: tqdm==4.67.1 in /root/miniconda3/envs/deepseek/lib/python3.13/site-packages (4.67.1)\r\n",
      "Requirement already satisfied: torch==2.7.0 in /root/miniconda3/envs/deepseek/lib/python3.13/site-packages (2.7.0)\r\n",
      "Requirement already satisfied: setuptools>69 in /root/miniconda3/envs/deepseek/lib/python3.13/site-packages (from pymilvus==2.5.10->pymilvus[model]==2.5.10) (78.1.1)\r\n",
      "Requirement already satisfied: grpcio<=1.67.1,>=1.49.1 in /root/miniconda3/envs/deepseek/lib/python3.13/site-packages (from pymilvus==2.5.10->pymilvus[model]==2.5.10) (1.67.1)\r\n",
      "Requirement already satisfied: protobuf>=3.20.0 in /root/miniconda3/envs/deepseek/lib/python3.13/site-packages (from pymilvus==2.5.10->pymilvus[model]==2.5.10) (6.31.1)\r\n",
      "Requirement already satisfied: python-dotenv<2.0.0,>=1.0.1 in /root/miniconda3/envs/deepseek/lib/python3.13/site-packages (from pymilvus==2.5.10->pymilvus[model]==2.5.10) (1.1.1)\r\n",
      "Requirement already satisfied: ujson>=2.0.0 in /root/miniconda3/envs/deepseek/lib/python3.13/site-packages (from pymilvus==2.5.10->pymilvus[model]==2.5.10) (5.10.0)\r\n",
      "Requirement already satisfied: pandas>=1.2.4 in /root/miniconda3/envs/deepseek/lib/python3.13/site-packages (from pymilvus==2.5.10->pymilvus[model]==2.5.10) (2.3.1)\r\n",
      "Requirement already satisfied: milvus-lite>=2.4.0 in /root/miniconda3/envs/deepseek/lib/python3.13/site-packages (from pymilvus==2.5.10->pymilvus[model]==2.5.10) (2.5.1)\r\n",
      "Requirement already satisfied: anyio<5,>=3.5.0 in /root/miniconda3/envs/deepseek/lib/python3.13/site-packages (from openai==1.82.0) (4.10.0)\r\n",
      "Requirement already satisfied: distro<2,>=1.7.0 in /root/miniconda3/envs/deepseek/lib/python3.13/site-packages (from openai==1.82.0) (1.9.0)\r\n",
      "Requirement already satisfied: httpx<1,>=0.23.0 in /root/miniconda3/envs/deepseek/lib/python3.13/site-packages (from openai==1.82.0) (0.28.1)\r\n",
      "Requirement already satisfied: jiter<1,>=0.4.0 in /root/miniconda3/envs/deepseek/lib/python3.13/site-packages (from openai==1.82.0) (0.10.0)\r\n",
      "Requirement already satisfied: pydantic<3,>=1.9.0 in /root/miniconda3/envs/deepseek/lib/python3.13/site-packages (from openai==1.82.0) (2.11.7)\r\n",
      "Requirement already satisfied: sniffio in /root/miniconda3/envs/deepseek/lib/python3.13/site-packages (from openai==1.82.0) (1.3.1)\r\n",
      "Requirement already satisfied: typing-extensions<5,>=4.11 in /root/miniconda3/envs/deepseek/lib/python3.13/site-packages (from openai==1.82.0) (4.14.1)\r\n",
      "Requirement already satisfied: charset-normalizer<4,>=2 in /root/miniconda3/envs/deepseek/lib/python3.13/site-packages (from requests==2.32.3) (3.4.2)\r\n",
      "Requirement already satisfied: idna<4,>=2.5 in /root/miniconda3/envs/deepseek/lib/python3.13/site-packages (from requests==2.32.3) (3.10)\r\n",
      "Requirement already satisfied: urllib3<3,>=1.21.1 in /root/miniconda3/envs/deepseek/lib/python3.13/site-packages (from requests==2.32.3) (2.5.0)\r\n",
      "Requirement already satisfied: certifi>=2017.4.17 in /root/miniconda3/envs/deepseek/lib/python3.13/site-packages (from requests==2.32.3) (2025.8.3)\r\n",
      "Requirement already satisfied: filelock in /root/miniconda3/envs/deepseek/lib/python3.13/site-packages (from torch==2.7.0) (3.18.0)\r\n",
      "Requirement already satisfied: sympy>=1.13.3 in /root/miniconda3/envs/deepseek/lib/python3.13/site-packages (from torch==2.7.0) (1.14.0)\r\n",
      "Requirement already satisfied: networkx in /root/miniconda3/envs/deepseek/lib/python3.13/site-packages (from torch==2.7.0) (3.5)\r\n",
      "Requirement already satisfied: jinja2 in /root/miniconda3/envs/deepseek/lib/python3.13/site-packages (from torch==2.7.0) (3.1.6)\r\n",
      "Requirement already satisfied: fsspec in /root/miniconda3/envs/deepseek/lib/python3.13/site-packages (from torch==2.7.0) (2025.7.0)\r\n",
      "Requirement already satisfied: nvidia-cuda-nvrtc-cu12==12.6.77 in /root/miniconda3/envs/deepseek/lib/python3.13/site-packages (from torch==2.7.0) (12.6.77)\r\n",
      "Requirement already satisfied: nvidia-cuda-runtime-cu12==12.6.77 in /root/miniconda3/envs/deepseek/lib/python3.13/site-packages (from torch==2.7.0) (12.6.77)\r\n",
      "Requirement already satisfied: nvidia-cuda-cupti-cu12==12.6.80 in /root/miniconda3/envs/deepseek/lib/python3.13/site-packages (from torch==2.7.0) (12.6.80)\r\n",
      "Requirement already satisfied: nvidia-cudnn-cu12==9.5.1.17 in /root/miniconda3/envs/deepseek/lib/python3.13/site-packages (from torch==2.7.0) (9.5.1.17)\r\n",
      "Requirement already satisfied: nvidia-cublas-cu12==12.6.4.1 in /root/miniconda3/envs/deepseek/lib/python3.13/site-packages (from torch==2.7.0) (12.6.4.1)\r\n",
      "Requirement already satisfied: nvidia-cufft-cu12==11.3.0.4 in /root/miniconda3/envs/deepseek/lib/python3.13/site-packages (from torch==2.7.0) (11.3.0.4)\r\n",
      "Requirement already satisfied: nvidia-curand-cu12==10.3.7.77 in /root/miniconda3/envs/deepseek/lib/python3.13/site-packages (from torch==2.7.0) (10.3.7.77)\r\n",
      "Requirement already satisfied: nvidia-cusolver-cu12==11.7.1.2 in /root/miniconda3/envs/deepseek/lib/python3.13/site-packages (from torch==2.7.0) (11.7.1.2)\r\n",
      "Requirement already satisfied: nvidia-cusparse-cu12==12.5.4.2 in /root/miniconda3/envs/deepseek/lib/python3.13/site-packages (from torch==2.7.0) (12.5.4.2)\r\n",
      "Requirement already satisfied: nvidia-cusparselt-cu12==0.6.3 in /root/miniconda3/envs/deepseek/lib/python3.13/site-packages (from torch==2.7.0) (0.6.3)\r\n",
      "Requirement already satisfied: nvidia-nccl-cu12==2.26.2 in /root/miniconda3/envs/deepseek/lib/python3.13/site-packages (from torch==2.7.0) (2.26.2)\r\n",
      "Requirement already satisfied: nvidia-nvtx-cu12==12.6.77 in /root/miniconda3/envs/deepseek/lib/python3.13/site-packages (from torch==2.7.0) (12.6.77)\r\n",
      "Requirement already satisfied: nvidia-nvjitlink-cu12==12.6.85 in /root/miniconda3/envs/deepseek/lib/python3.13/site-packages (from torch==2.7.0) (12.6.85)\r\n",
      "Requirement already satisfied: nvidia-cufile-cu12==1.11.1.6 in /root/miniconda3/envs/deepseek/lib/python3.13/site-packages (from torch==2.7.0) (1.11.1.6)\r\n",
      "Requirement already satisfied: triton==3.3.0 in /root/miniconda3/envs/deepseek/lib/python3.13/site-packages (from torch==2.7.0) (3.3.0)\r\n",
      "Requirement already satisfied: pymilvus.model>=0.3.0 in /root/miniconda3/envs/deepseek/lib/python3.13/site-packages (from pymilvus[model]==2.5.10) (0.3.2)\r\n",
      "Requirement already satisfied: httpcore==1.* in /root/miniconda3/envs/deepseek/lib/python3.13/site-packages (from httpx<1,>=0.23.0->openai==1.82.0) (1.0.9)\r\n",
      "Requirement already satisfied: h11>=0.16 in /root/miniconda3/envs/deepseek/lib/python3.13/site-packages (from httpcore==1.*->httpx<1,>=0.23.0->openai==1.82.0) (0.16.0)\r\n",
      "Requirement already satisfied: annotated-types>=0.6.0 in /root/miniconda3/envs/deepseek/lib/python3.13/site-packages (from pydantic<3,>=1.9.0->openai==1.82.0) (0.7.0)\r\n",
      "Requirement already satisfied: pydantic-core==2.33.2 in /root/miniconda3/envs/deepseek/lib/python3.13/site-packages (from pydantic<3,>=1.9.0->openai==1.82.0) (2.33.2)\r\n",
      "Requirement already satisfied: typing-inspection>=0.4.0 in /root/miniconda3/envs/deepseek/lib/python3.13/site-packages (from pydantic<3,>=1.9.0->openai==1.82.0) (0.4.1)\r\n",
      "Requirement already satisfied: numpy>=1.26.0 in /root/miniconda3/envs/deepseek/lib/python3.13/site-packages (from pandas>=1.2.4->pymilvus==2.5.10->pymilvus[model]==2.5.10) (2.3.2)\r\n",
      "Requirement already satisfied: python-dateutil>=2.8.2 in /root/miniconda3/envs/deepseek/lib/python3.13/site-packages (from pandas>=1.2.4->pymilvus==2.5.10->pymilvus[model]==2.5.10) (2.9.0.post0)\r\n",
      "Requirement already satisfied: pytz>=2020.1 in /root/miniconda3/envs/deepseek/lib/python3.13/site-packages (from pandas>=1.2.4->pymilvus==2.5.10->pymilvus[model]==2.5.10) (2025.2)\r\n",
      "Requirement already satisfied: tzdata>=2022.7 in /root/miniconda3/envs/deepseek/lib/python3.13/site-packages (from pandas>=1.2.4->pymilvus==2.5.10->pymilvus[model]==2.5.10) (2025.2)\r\n",
      "Requirement already satisfied: transformers>=4.36.0 in /root/miniconda3/envs/deepseek/lib/python3.13/site-packages (from pymilvus.model>=0.3.0->pymilvus[model]==2.5.10) (4.55.0)\r\n",
      "Requirement already satisfied: onnxruntime in /root/miniconda3/envs/deepseek/lib/python3.13/site-packages (from pymilvus.model>=0.3.0->pymilvus[model]==2.5.10) (1.22.1)\r\n",
      "Requirement already satisfied: scipy>=1.10.0 in /root/miniconda3/envs/deepseek/lib/python3.13/site-packages (from pymilvus.model>=0.3.0->pymilvus[model]==2.5.10) (1.16.1)\r\n",
      "Requirement already satisfied: six>=1.5 in /root/miniconda3/envs/deepseek/lib/python3.13/site-packages (from python-dateutil>=2.8.2->pandas>=1.2.4->pymilvus==2.5.10->pymilvus[model]==2.5.10) (1.17.0)\r\n",
      "Requirement already satisfied: mpmath<1.4,>=1.1.0 in /root/miniconda3/envs/deepseek/lib/python3.13/site-packages (from sympy>=1.13.3->torch==2.7.0) (1.3.0)\r\n",
      "Requirement already satisfied: huggingface-hub<1.0,>=0.34.0 in /root/miniconda3/envs/deepseek/lib/python3.13/site-packages (from transformers>=4.36.0->pymilvus.model>=0.3.0->pymilvus[model]==2.5.10) (0.34.3)\r\n",
      "Requirement already satisfied: packaging>=20.0 in /root/miniconda3/envs/deepseek/lib/python3.13/site-packages (from transformers>=4.36.0->pymilvus.model>=0.3.0->pymilvus[model]==2.5.10) (25.0)\r\n",
      "Requirement already satisfied: pyyaml>=5.1 in /root/miniconda3/envs/deepseek/lib/python3.13/site-packages (from transformers>=4.36.0->pymilvus.model>=0.3.0->pymilvus[model]==2.5.10) (6.0.2)\r\n",
      "Requirement already satisfied: regex!=2019.12.17 in /root/miniconda3/envs/deepseek/lib/python3.13/site-packages (from transformers>=4.36.0->pymilvus.model>=0.3.0->pymilvus[model]==2.5.10) (2025.7.33)\r\n",
      "Requirement already satisfied: tokenizers<0.22,>=0.21 in /root/miniconda3/envs/deepseek/lib/python3.13/site-packages (from transformers>=4.36.0->pymilvus.model>=0.3.0->pymilvus[model]==2.5.10) (0.21.4)\r\n",
      "Requirement already satisfied: safetensors>=0.4.3 in /root/miniconda3/envs/deepseek/lib/python3.13/site-packages (from transformers>=4.36.0->pymilvus.model>=0.3.0->pymilvus[model]==2.5.10) (0.6.1)\r\n",
      "Requirement already satisfied: hf-xet<2.0.0,>=1.1.3 in /root/miniconda3/envs/deepseek/lib/python3.13/site-packages (from huggingface-hub<1.0,>=0.34.0->transformers>=4.36.0->pymilvus.model>=0.3.0->pymilvus[model]==2.5.10) (1.1.7)\r\n",
      "Requirement already satisfied: MarkupSafe>=2.0 in /root/miniconda3/envs/deepseek/lib/python3.13/site-packages (from jinja2->torch==2.7.0) (3.0.2)\r\n",
      "Requirement already satisfied: coloredlogs in /root/miniconda3/envs/deepseek/lib/python3.13/site-packages (from onnxruntime->pymilvus.model>=0.3.0->pymilvus[model]==2.5.10) (15.0.1)\r\n",
      "Requirement already satisfied: flatbuffers in /root/miniconda3/envs/deepseek/lib/python3.13/site-packages (from onnxruntime->pymilvus.model>=0.3.0->pymilvus[model]==2.5.10) (25.2.10)\r\n",
      "Requirement already satisfied: humanfriendly>=9.1 in /root/miniconda3/envs/deepseek/lib/python3.13/site-packages (from coloredlogs->onnxruntime->pymilvus.model>=0.3.0->pymilvus[model]==2.5.10) (10.0)\r\n",
      "\u001B[33mWARNING: Running pip as the 'root' user can result in broken permissions and conflicting behaviour with the system package manager, possibly rendering your system unusable. It is recommended to use a virtual environment instead: https://pip.pypa.io/warnings/venv. Use the --root-user-action option if you know what you are doing and want to suppress this warning.\u001B[0m\u001B[33m\r\n",
      "\u001B[0m"
     ]
    }
   ],
   "execution_count": 7
  },
  {
   "cell_type": "markdown",
   "id": "1b3c0999-d670-41a9-afbd-d8a020fe1631",
   "metadata": {},
   "source": [
    "---"
   ]
  },
  {
   "cell_type": "code",
   "id": "375ad823",
   "metadata": {
    "ExecuteTime": {
     "end_time": "2025-08-12T15:39:09.144295Z",
     "start_time": "2025-08-12T15:39:09.139180Z"
    }
   },
   "source": [
    "import os\n",
    "\n",
    "# 设置HuggingFace镜像站\n",
    "os.environ[\"HF_ENDPOINT\"] = \"https://hf-mirror.com\"\n",
    "os.environ[\"HUGGINGFACE_CO_URL_HOME\"] = \"https://hf-mirror.com\"\n",
    "\n",
    "# 从环境变量获取 DeepSeek API Key\n",
    "api_key = os.getenv(\"DEEPSEEK_API_KEY\")"
   ],
   "outputs": [],
   "execution_count": 1
  },
  {
   "cell_type": "markdown",
   "id": "db44bb26",
   "metadata": {},
   "source": [
    "### 准备数据"
   ]
  },
  {
   "cell_type": "markdown",
   "id": "25f92a95",
   "metadata": {},
   "source": [
    "我们使用 Milvus 文档 2.4.x 中的 FAQ 页面作为我们 RAG 中的私有知识库，这是一个简单 RAG 管道的良好数据源。"
   ]
  },
  {
   "cell_type": "markdown",
   "id": "a1a8b9e2",
   "metadata": {},
   "source": [
    "下载 zip 文件并将文档解压到 `milvus_docs` 文件夹。\n",
    "\n",
    "**建议在命令行执行下面命令**"
   ]
  },
  {
   "cell_type": "code",
   "execution_count": 18,
   "id": "a81fa031",
   "metadata": {},
   "outputs": [],
   "source": [
    "#!wget https://github.com/milvus-io/milvus-docs/releases/download/v2.4.6-preview/milvus_docs_2.4.x_en.zip\n",
    "#!unzip -q milvus_docs_2.4.x_en.zip -d milvus_docs"
   ]
  },
  {
   "cell_type": "markdown",
   "id": "d1198466",
   "metadata": {},
   "source": [
    "我们从 `milvus_docs/en/faq` 文件夹加载所有 markdown 文件。对于每个文档，我们简单地使用 \"# \" 来分割文件中的内容，这样可以大致分离出 markdown 文件中每个主要部分的内容。"
   ]
  },
  {
   "cell_type": "code",
   "id": "c9035a5f",
   "metadata": {
    "ExecuteTime": {
     "end_time": "2025-08-12T15:39:19.007485Z",
     "start_time": "2025-08-12T15:39:18.903161Z"
    }
   },
   "source": [
    "from glob import glob\n",
    "\n",
    "text_lines = []\n",
    "\n",
    "for file_path in glob(\"milvus_docs/en/faq/*.md\", recursive=True):\n",
    "    with open(file_path, \"r\") as file:\n",
    "        file_text = file.read()\n",
    "\n",
    "    text_lines += file_text.split(\"# \")"
   ],
   "outputs": [],
   "execution_count": 2
  },
  {
   "cell_type": "code",
   "id": "01b73e74-ee7d-4daf-b7db-1c7a10bfc0bf",
   "metadata": {
    "ExecuteTime": {
     "end_time": "2025-08-12T15:40:32.855078Z",
     "start_time": "2025-08-12T15:40:32.847910Z"
    }
   },
   "source": [
    "len(text_lines)"
   ],
   "outputs": [
    {
     "data": {
      "text/plain": [
       "72"
      ]
     },
     "execution_count": 3,
     "metadata": {},
     "output_type": "execute_result"
    }
   ],
   "execution_count": 3
  },
  {
   "cell_type": "markdown",
   "id": "4cc2a0b8",
   "metadata": {},
   "source": [
    "### 准备 LLM 和 Embedding 模型"
   ]
  },
  {
   "cell_type": "markdown",
   "id": "19eaff7a",
   "metadata": {},
   "source": [
    "DeepSeek 支持 OpenAI 风格的 API，您可以使用相同的 API 进行微小调整来调用 LLM。"
   ]
  },
  {
   "cell_type": "code",
   "id": "b994eb47",
   "metadata": {
    "ExecuteTime": {
     "end_time": "2025-08-12T15:42:52.562528Z",
     "start_time": "2025-08-12T15:42:50.889559Z"
    }
   },
   "source": [
    "from openai import OpenAI\n",
    "\n",
    "deepseek_client = OpenAI(\n",
    "    api_key=api_key,\n",
    "    base_url=\"https://api.deepseek.com/v1\",  # DeepSeek API 的基地址\n",
    ")"
   ],
   "outputs": [],
   "execution_count": 4
  },
  {
   "cell_type": "markdown",
   "id": "1cc5a5e2",
   "metadata": {},
   "source": "定义一个 embedding 模型，使用 `milvus_model` 来生成文本嵌入。我们以 `DefaultEmbeddingFunction` 模型为例，这是一个预训练的轻量级嵌入模型。需要从hugging face下载模型。"
  },
  {
   "cell_type": "code",
   "id": "3a94242a",
   "metadata": {
    "ExecuteTime": {
     "end_time": "2025-08-12T16:27:58.510031Z",
     "start_time": "2025-08-12T16:27:41.109554Z"
    }
   },
   "source": [
    "from pymilvus import model as milvus_model\n",
    "\n",
    "embedding_model = milvus_model.DefaultEmbeddingFunction()"
   ],
   "outputs": [],
   "execution_count": 23
  },
  {
   "cell_type": "markdown",
   "id": "93fb1696",
   "metadata": {},
   "source": [
    "生成一个测试嵌入并打印其维度和前几个元素。"
   ]
  },
  {
   "cell_type": "code",
   "id": "88a27567",
   "metadata": {
    "ExecuteTime": {
     "end_time": "2025-08-12T15:47:35.054271Z",
     "start_time": "2025-08-12T15:47:34.486038Z"
    }
   },
   "source": [
    "test_embedding = embedding_model.encode_queries([\"This is a test\"])[0]\n",
    "embedding_dim = len(test_embedding)\n",
    "print(embedding_dim)\n",
    "print(test_embedding[:10])"
   ],
   "outputs": [
    {
     "name": "stdout",
     "output_type": "stream",
     "text": [
      "768\n",
      "[-0.04836059  0.07163021 -0.01130063 -0.03789341 -0.03320651 -0.01318453\n",
      " -0.03041721 -0.02269495 -0.02317858 -0.00426026]\n"
     ]
    }
   ],
   "execution_count": 6
  },
  {
   "cell_type": "code",
   "id": "f7683f3a-d9e4-4c8e-9a66-c341911bef6b",
   "metadata": {
    "ExecuteTime": {
     "end_time": "2025-08-12T15:51:06.225807Z",
     "start_time": "2025-08-12T15:51:05.963423Z"
    }
   },
   "source": [
    "test_embedding_0 = embedding_model.encode_queries([\"That is a test\"])[0]\n",
    "print(test_embedding_0[:10])"
   ],
   "outputs": [
    {
     "name": "stdout",
     "output_type": "stream",
     "text": [
      "[-0.05210766  0.07635823  0.0083235  -0.03446345  0.04234776 -0.03599082\n",
      " -0.00163659 -0.01105891 -0.01117201 -0.01092011]\n"
     ]
    }
   ],
   "execution_count": 8
  },
  {
   "cell_type": "markdown",
   "id": "5a778887",
   "metadata": {},
   "source": [
    "## 将数据加载到 Milvus"
   ]
  },
  {
   "cell_type": "markdown",
   "id": "02b23a24",
   "metadata": {},
   "source": [
    "### 创建 Collection"
   ]
  },
  {
   "cell_type": "code",
   "id": "95e84b8c",
   "metadata": {
    "ExecuteTime": {
     "end_time": "2025-08-12T15:54:15.125747Z",
     "start_time": "2025-08-12T15:54:10.795238Z"
    }
   },
   "source": [
    "from pymilvus import MilvusClient\n",
    "\n",
    "milvus_client = MilvusClient(uri=\"./milvus_demo.db\")\n",
    "\n",
    "collection_name = \"my_rag_collection\""
   ],
   "outputs": [],
   "execution_count": 9
  },
  {
   "cell_type": "markdown",
   "id": "68648561",
   "metadata": {},
   "source": [
    "关于 `MilvusClient` 的参数：\n",
    "\n",
    "*   将 `uri` 设置为本地文件，例如 `./milvus.db`，是最方便的方法，因为它会自动利用 Milvus Lite 将所有数据存储在此文件中。\n",
    "*   如果您有大规模数据，可以在 Docker 或 Kubernetes 上设置性能更高的 Milvus 服务器。在此设置中，请使用服务器 URI，例如 `http://localhost:19530`，作为您的 `uri`。\n",
    "*   如果您想使用 Zilliz Cloud（Milvus 的完全托管云服务），请调整 `uri` 和 `token`，它们对应 Zilliz Cloud 中的 Public Endpoint 和 Api key。"
   ]
  },
  {
   "cell_type": "markdown",
   "id": "5ce1bf3e",
   "metadata": {},
   "source": [
    "检查 collection 是否已存在，如果存在则删除它。"
   ]
  },
  {
   "cell_type": "code",
   "id": "aee85c08",
   "metadata": {
    "ExecuteTime": {
     "end_time": "2025-08-12T15:54:21.129321Z",
     "start_time": "2025-08-12T15:54:20.554549Z"
    }
   },
   "source": [
    "if milvus_client.has_collection(collection_name):\n",
    "    milvus_client.drop_collection(collection_name)"
   ],
   "outputs": [],
   "execution_count": 10
  },
  {
   "cell_type": "markdown",
   "id": "73eb379f",
   "metadata": {},
   "source": [
    "创建一个具有指定参数的新 collection。\n",
    "\n",
    "如果我们不指定任何字段信息，Milvus 将自动创建一个默认的 `id` 字段作为主键，以及一个 `vector` 字段来存储向量数据（猜测根据这个字段建立向量索引）。一个保留的 JSON 字段用于存储非 schema 定义的字段及其值。\n",
    "\n",
    "`metric_type` (距离度量类型):\n",
    "     作用：定义如何计算向量之间的相似程度。\n",
    "     例如：`IP` (内积) - 值越大通常越相似；`L2` (欧氏距离) - 值越小越相似；`COSINE` (余弦相似度) - 通常转换为距离，值越小越相似。\n",
    "     选择依据：根据你的嵌入模型的特性和期望的相似性定义来选择。\n",
    "\n",
    " `consistency_level` (一致性级别):\n",
    "     作用：定义数据写入后，读取操作能多快看到这些新数据。\n",
    "     例如：\n",
    "         `Strong` (强一致性): 总是读到最新数据，可能查询速度稍慢。\n",
    "         `Bounded` (有界过期): 可能读到几秒内旧数据，性能较好 (默认)。\n",
    "         `Session` (会话一致性): 自己写入的自己能立刻读到。\n",
    "         `Eventually` (最终一致性): 最终会读到新数据，但没时间保证，性能最好。\n",
    "     选择依据：在数据实时性要求和系统性能之间做权衡。\n",
    "\n",
    "简单来说：\n",
    " `metric_type`：怎么算相似。\n",
    " `consistency_level`：新数据多久能被读到。"
   ]
  },
  {
   "cell_type": "code",
   "id": "bd0b2df8",
   "metadata": {
    "ExecuteTime": {
     "end_time": "2025-08-12T15:59:51.274700Z",
     "start_time": "2025-08-12T15:59:50.177780Z"
    }
   },
   "source": [
    "milvus_client.create_collection(\n",
    "    collection_name=collection_name,\n",
    "    dimension=embedding_dim,\n",
    "    metric_type=\"IP\",  # 内积距离\n",
    "    consistency_level=\"Strong\",  # 支持的值为 (`\"Strong\"`, `\"Session\"`, `\"Bounded\"`, `\"Eventually\"`)。更多详情请参见 https://milvus.io/docs/consistency.md#Consistency-Level。\n",
    ")"
   ],
   "outputs": [],
   "execution_count": 11
  },
  {
   "cell_type": "markdown",
   "id": "9c15bafb",
   "metadata": {},
   "source": [
    "### 插入数据"
   ]
  },
  {
   "cell_type": "markdown",
   "id": "171d3b35",
   "metadata": {},
   "source": [
    "遍历文本行，创建嵌入，然后将数据插入 Milvus。\n",
    "\n",
    "这里有一个新字段 `text`，它是在 collection schema 中未定义的字段。它将自动添加到保留的 JSON 动态字段中，该字段在高级别上可以被视为普通字段。"
   ]
  },
  {
   "cell_type": "code",
   "id": "ad077094",
   "metadata": {
    "ExecuteTime": {
     "end_time": "2025-08-12T16:01:37.473286Z",
     "start_time": "2025-08-12T16:01:16.969407Z"
    }
   },
   "source": [
    "from tqdm import tqdm\n",
    "\n",
    "data = []\n",
    "\n",
    "doc_embeddings = embedding_model.encode_documents(text_lines)\n",
    "\n",
    "for i, line in enumerate(tqdm(text_lines, desc=\"Creating embeddings\")):\n",
    "    data.append({\"id\": i, \"vector\": doc_embeddings[i], \"text\": line})\n",
    "\n",
    "milvus_client.insert(collection_name=collection_name, data=data)"
   ],
   "outputs": [
    {
     "name": "stderr",
     "output_type": "stream",
     "text": [
      "Creating embeddings: 100%|██████████| 72/72 [00:00<00:00, 233016.89it/s]\n"
     ]
    },
    {
     "data": {
      "text/plain": [
       "{'insert_count': 72, 'ids': [0, 1, 2, 3, 4, 5, 6, 7, 8, 9, 10, 11, 12, 13, 14, 15, 16, 17, 18, 19, 20, 21, 22, 23, 24, 25, 26, 27, 28, 29, 30, 31, 32, 33, 34, 35, 36, 37, 38, 39, 40, 41, 42, 43, 44, 45, 46, 47, 48, 49, 50, 51, 52, 53, 54, 55, 56, 57, 58, 59, 60, 61, 62, 63, 64, 65, 66, 67, 68, 69, 70, 71], 'cost': 0}"
      ]
     },
     "execution_count": 12,
     "metadata": {},
     "output_type": "execute_result"
    }
   ],
   "execution_count": 12
  },
  {
   "cell_type": "markdown",
   "id": "bd971f6b",
   "metadata": {},
   "source": [
    "## 构建 RAG"
   ]
  },
  {
   "cell_type": "markdown",
   "id": "534dc076",
   "metadata": {},
   "source": [
    "### 检索查询数据"
   ]
  },
  {
   "cell_type": "markdown",
   "id": "5a6fd7e7",
   "metadata": {},
   "source": [
    "我们指定一个关于 Milvus 的常见问题。"
   ]
  },
  {
   "cell_type": "code",
   "id": "6e2f5c6a",
   "metadata": {
    "ExecuteTime": {
     "end_time": "2025-08-12T16:27:58.582700Z",
     "start_time": "2025-08-12T16:27:58.579316Z"
    }
   },
   "source": [
    "# question = \"How is data stored in milvus?\"\n",
    "question = \"Why no vector data in etcd?\""
   ],
   "outputs": [],
   "execution_count": 24
  },
  {
   "cell_type": "markdown",
   "id": "52401a38",
   "metadata": {},
   "source": [
    "在 collection 中搜索该问题，并检索语义上最匹配的前3个结果。"
   ]
  },
  {
   "cell_type": "code",
   "id": "0dd4cbac",
   "metadata": {
    "ExecuteTime": {
     "end_time": "2025-08-12T16:28:07.332327Z",
     "start_time": "2025-08-12T16:28:07.074748Z"
    }
   },
   "source": [
    "search_res = milvus_client.search(\n",
    "    collection_name=collection_name,\n",
    "    data=embedding_model.encode_queries(\n",
    "        [question]\n",
    "    ),  # 将问题转换为嵌入向量\n",
    "    limit=3,  # 返回前3个结果\n",
    "    search_params={\"metric_type\": \"IP\", \"params\": {}},  # 内积距离\n",
    "    output_fields=[\"text\"],  # 返回 text 字段\n",
    ")"
   ],
   "outputs": [],
   "execution_count": 25
  },
  {
   "cell_type": "markdown",
   "id": "ffcce135",
   "metadata": {},
   "source": [
    "让我们看一下查询的搜索结果"
   ]
  },
  {
   "cell_type": "code",
   "id": "6a7f6eb3",
   "metadata": {
    "ExecuteTime": {
     "end_time": "2025-08-12T16:28:20.689133Z",
     "start_time": "2025-08-12T16:28:20.683656Z"
    }
   },
   "source": [
    "import json\n",
    "\n",
    "retrieved_lines_with_distances = [\n",
    "    (res[\"entity\"][\"text\"], res[\"distance\"]) for res in search_res[0]\n",
    "]\n",
    "print(json.dumps(retrieved_lines_with_distances, indent=4))"
   ],
   "outputs": [
    {
     "name": "stdout",
     "output_type": "stream",
     "text": [
      "[\n",
      "    [\n",
      "        \"Why is there no vector data in etcd?\\n\\netcd stores Milvus module metadata; MinIO stores entities.\\n\\n###\",\n",
      "        0.7043837308883667\n",
      "    ],\n",
      "    [\n",
      "        \"---\\nid: product_faq.md\\nsummary: Find answers to frequently asked questions about the world's most advanced vector database.\\ntitle: Product FAQ\\n---\\n\\n\",\n",
      "        0.4299328327178955\n",
      "    ],\n",
      "    [\n",
      "        \"Why do I get fewer than k vectors when searching for `topk` vectors?\\n\\nAmong the indexes that Milvus supports, IVF_FLAT and IVF_SQ8 implement the k-means clustering method. A data space is divided into `nlist` clusters and the inserted vectors are distributed to these clusters. Milvus then selects the `nprobe` nearest clusters and compares the distances between the target vector and all vectors in the selected clusters to return the final results.\\n\\nIf `nlist` and `topk` are large and nprobe is small, the number of vectors in the nprobe clusters may be less than `k`. Therefore, when you search for the `topk` nearest vectors, the number of returned vectors is less than `k`.\\n\\nTo avoid this, try setting `nprobe` larger and `nlist` and `k` smaller.\\n\\nSee [Vector Index](index.md) for more information.\\n\\n###\",\n",
      "        0.4079229235649109\n",
      "    ]\n",
      "]\n"
     ]
    }
   ],
   "execution_count": 26
  },
  {
   "cell_type": "markdown",
   "id": "ccd4c186",
   "metadata": {},
   "source": [
    "### 使用 LLM 获取 RAG 响应"
   ]
  },
  {
   "cell_type": "markdown",
   "id": "4cd1ae3a",
   "metadata": {},
   "source": [
    "将检索到的文档转换为字符串格式。"
   ]
  },
  {
   "cell_type": "code",
   "id": "0676448f",
   "metadata": {
    "ExecuteTime": {
     "end_time": "2025-08-12T16:29:16.609823Z",
     "start_time": "2025-08-12T16:29:16.605374Z"
    }
   },
   "source": [
    "context = \"\\n\".join(\n",
    "    [line_with_distance[0] for line_with_distance in retrieved_lines_with_distances]\n",
    ")"
   ],
   "outputs": [],
   "execution_count": 27
  },
  {
   "cell_type": "code",
   "id": "107df42a-b3f7-48a8-b66b-fc82fe3ec174",
   "metadata": {
    "ExecuteTime": {
     "end_time": "2025-08-12T16:29:18.818714Z",
     "start_time": "2025-08-12T16:29:18.812564Z"
    }
   },
   "source": [
    "context"
   ],
   "outputs": [
    {
     "data": {
      "text/plain": [
       "\"Why is there no vector data in etcd?\\n\\netcd stores Milvus module metadata; MinIO stores entities.\\n\\n###\\n---\\nid: product_faq.md\\nsummary: Find answers to frequently asked questions about the world's most advanced vector database.\\ntitle: Product FAQ\\n---\\n\\n\\nWhy do I get fewer than k vectors when searching for `topk` vectors?\\n\\nAmong the indexes that Milvus supports, IVF_FLAT and IVF_SQ8 implement the k-means clustering method. A data space is divided into `nlist` clusters and the inserted vectors are distributed to these clusters. Milvus then selects the `nprobe` nearest clusters and compares the distances between the target vector and all vectors in the selected clusters to return the final results.\\n\\nIf `nlist` and `topk` are large and nprobe is small, the number of vectors in the nprobe clusters may be less than `k`. Therefore, when you search for the `topk` nearest vectors, the number of returned vectors is less than `k`.\\n\\nTo avoid this, try setting `nprobe` larger and `nlist` and `k` smaller.\\n\\nSee [Vector Index](index.md) for more information.\\n\\n###\""
      ]
     },
     "execution_count": 28,
     "metadata": {},
     "output_type": "execute_result"
    }
   ],
   "execution_count": 28
  },
  {
   "cell_type": "code",
   "id": "19998758-7f98-4cb8-8789-625fcfaad00e",
   "metadata": {
    "ExecuteTime": {
     "end_time": "2025-08-12T16:29:22.555375Z",
     "start_time": "2025-08-12T16:29:22.549382Z"
    }
   },
   "source": [
    "question"
   ],
   "outputs": [
    {
     "data": {
      "text/plain": [
       "'Why no vector data in etcd?'"
      ]
     },
     "execution_count": 29,
     "metadata": {},
     "output_type": "execute_result"
    }
   ],
   "execution_count": 29
  },
  {
   "cell_type": "markdown",
   "id": "7ad25756",
   "metadata": {},
   "source": [
    "为语言模型定义系统和用户提示。此提示是使用从 Milvus 检索到的文档组装而成的。"
   ]
  },
  {
   "cell_type": "code",
   "id": "b655f6f3",
   "metadata": {
    "ExecuteTime": {
     "end_time": "2025-08-12T16:29:24.760901Z",
     "start_time": "2025-08-12T16:29:24.756853Z"
    }
   },
   "source": [
    "SYSTEM_PROMPT = \"\"\"\n",
    "Human: 你是一个 AI 助手。你能够从提供的上下文段落片段中找到问题的答案。\n",
    "\"\"\"\n",
    "USER_PROMPT = f\"\"\"\n",
    "请使用以下用 <context> 标签括起来的信息片段来回答用 <question> 标签括起来的问题。最后追加原始回答的中文翻译，并用 <translated>和</translated> 标签标注。\n",
    "<context>\n",
    "{context}\n",
    "</context>\n",
    "<question>\n",
    "{question}\n",
    "</question>\n",
    "<translated>\n",
    "</translated>\n",
    "\"\"\""
   ],
   "outputs": [],
   "execution_count": 30
  },
  {
   "cell_type": "code",
   "id": "97089c31-f85c-47a9-8498-78520513bc67",
   "metadata": {
    "ExecuteTime": {
     "end_time": "2025-08-12T16:29:27.402205Z",
     "start_time": "2025-08-12T16:29:27.395965Z"
    }
   },
   "source": [
    "USER_PROMPT"
   ],
   "outputs": [
    {
     "data": {
      "text/plain": [
       "\"\\n请使用以下用 <context> 标签括起来的信息片段来回答用 <question> 标签括起来的问题。最后追加原始回答的中文翻译，并用 <translated>和</translated> 标签标注。\\n<context>\\nWhy is there no vector data in etcd?\\n\\netcd stores Milvus module metadata; MinIO stores entities.\\n\\n###\\n---\\nid: product_faq.md\\nsummary: Find answers to frequently asked questions about the world's most advanced vector database.\\ntitle: Product FAQ\\n---\\n\\n\\nWhy do I get fewer than k vectors when searching for `topk` vectors?\\n\\nAmong the indexes that Milvus supports, IVF_FLAT and IVF_SQ8 implement the k-means clustering method. A data space is divided into `nlist` clusters and the inserted vectors are distributed to these clusters. Milvus then selects the `nprobe` nearest clusters and compares the distances between the target vector and all vectors in the selected clusters to return the final results.\\n\\nIf `nlist` and `topk` are large and nprobe is small, the number of vectors in the nprobe clusters may be less than `k`. Therefore, when you search for the `topk` nearest vectors, the number of returned vectors is less than `k`.\\n\\nTo avoid this, try setting `nprobe` larger and `nlist` and `k` smaller.\\n\\nSee [Vector Index](index.md) for more information.\\n\\n###\\n</context>\\n<question>\\nWhy no vector data in etcd?\\n</question>\\n<translated>\\n</translated>\\n\""
      ]
     },
     "execution_count": 31,
     "metadata": {},
     "output_type": "execute_result"
    }
   ],
   "execution_count": 31
  },
  {
   "cell_type": "markdown",
   "id": "184b457f",
   "metadata": {},
   "source": [
    "使用 DeepSeek 提供的 `deepseek-chat` 模型根据提示生成响应。"
   ]
  },
  {
   "cell_type": "code",
   "id": "638a7561",
   "metadata": {
    "ExecuteTime": {
     "end_time": "2025-08-12T16:30:04.185263Z",
     "start_time": "2025-08-12T16:29:56.843458Z"
    }
   },
   "source": [
    "response = deepseek_client.chat.completions.create(\n",
    "    model=\"deepseek-chat\",\n",
    "    messages=[\n",
    "        {\"role\": \"system\", \"content\": SYSTEM_PROMPT},\n",
    "        {\"role\": \"user\", \"content\": USER_PROMPT},\n",
    "    ],\n",
    ")\n",
    "print(response.choices[0].message.content)"
   ],
   "outputs": [
    {
     "name": "stdout",
     "output_type": "stream",
     "text": [
      "根据提供的上下文信息，ETCD中不存储向量数据的原因是：ETCD仅用于存储Milvus模块的元数据，而实际的实体向量数据是由MinIO存储的。\n",
      "\n",
      "<translated>\n",
      "根据提供的上下文信息，ETCD中不存储向量数据的原因是：ETCD仅用于存储Milvus模块的元数据，而实际的实体向量数据是由MinIO存储的。\n",
      "</translated>\n"
     ]
    }
   ],
   "execution_count": 33
  },
  {
   "cell_type": "code",
   "execution_count": null,
   "id": "50ce3b55-7daa-4727-95bd-3b00f6aa2b03",
   "metadata": {},
   "outputs": [],
   "source": []
  }
 ],
 "metadata": {
  "kernelspec": {
   "display_name": "Python 3 (ipykernel)",
   "language": "python",
   "name": "python3"
  },
  "language_info": {
   "codemirror_mode": {
    "name": "ipython",
    "version": 3
   },
   "file_extension": ".py",
   "mimetype": "text/x-python",
   "name": "python",
   "nbconvert_exporter": "python",
   "pygments_lexer": "ipython3",
   "version": "3.13.3"
  }
 },
 "nbformat": 4,
 "nbformat_minor": 5
}
