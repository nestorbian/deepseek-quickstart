{
 "cells": [
  {
   "cell_type": "code",
   "execution_count": 1,
   "id": "44d78779-a4ae-4ad1-be13-f7a9aae648a8",
   "metadata": {
    "ExecuteTime": {
     "end_time": "2025-08-05T00:05:28.530076Z",
     "start_time": "2025-08-05T00:05:19.461674Z"
    }
   },
   "outputs": [
    {
     "name": "stdout",
     "output_type": "stream",
     "text": [
      "Looking in indexes: https://mirrors.aliyun.com/pypi/simple/\r\n",
      "Collecting openai==1.82.0\r\n",
      "  Downloading https://mirrors.aliyun.com/pypi/packages/51/4b/a59464ee5f77822a81ee069b4021163a0174940a92685efc3cf8b4c443a3/openai-1.82.0-py3-none-any.whl (720 kB)\r\n",
      "\u001B[2K     \u001B[90m━━━━━━━━━━━━━━━━━━━━━━━━━━━━━━━━━━━━━━━━\u001B[0m \u001B[32m720.4/720.4 kB\u001B[0m \u001B[31m2.3 MB/s\u001B[0m  \u001B[33m0:00:00\u001B[0m36m-:--:--\u001B[0m\r\n",
      "\u001B[?25hRequirement already satisfied: anyio<5,>=3.5.0 in /root/miniconda3/envs/deepseek/lib/python3.13/site-packages (from openai==1.82.0) (4.10.0)\r\n",
      "Collecting distro<2,>=1.7.0 (from openai==1.82.0)\r\n",
      "  Downloading https://mirrors.aliyun.com/pypi/packages/12/b3/231ffd4ab1fc9d679809f356cebee130ac7daa00d6d6f3206dd4fd137e9e/distro-1.9.0-py3-none-any.whl (20 kB)\r\n",
      "Requirement already satisfied: httpx<1,>=0.23.0 in /root/miniconda3/envs/deepseek/lib/python3.13/site-packages (from openai==1.82.0) (0.28.1)\r\n",
      "Collecting jiter<1,>=0.4.0 (from openai==1.82.0)\r\n",
      "  Downloading https://mirrors.aliyun.com/pypi/packages/42/3e/df2235c54d365434c7f150b986a6e35f41ebdc2f95acea3036d99613025d/jiter-0.10.0-cp313-cp313-manylinux_2_17_x86_64.manylinux2014_x86_64.whl (350 kB)\r\n",
      "Collecting pydantic<3,>=1.9.0 (from openai==1.82.0)\r\n",
      "  Downloading https://mirrors.aliyun.com/pypi/packages/6a/c0/ec2b1c8712ca690e5d61979dee872603e92b8a32f94cc1b72d53beab008a/pydantic-2.11.7-py3-none-any.whl (444 kB)\r\n",
      "Requirement already satisfied: sniffio in /root/miniconda3/envs/deepseek/lib/python3.13/site-packages (from openai==1.82.0) (1.3.1)\r\n",
      "Collecting tqdm>4 (from openai==1.82.0)\r\n",
      "  Downloading https://mirrors.aliyun.com/pypi/packages/d0/30/dc54f88dd4a2b5dc8a0279bdd7270e735851848b762aeb1c1184ed1f6b14/tqdm-4.67.1-py3-none-any.whl (78 kB)\r\n",
      "Requirement already satisfied: typing-extensions<5,>=4.11 in /root/miniconda3/envs/deepseek/lib/python3.13/site-packages (from openai==1.82.0) (4.14.1)\r\n",
      "Requirement already satisfied: idna>=2.8 in /root/miniconda3/envs/deepseek/lib/python3.13/site-packages (from anyio<5,>=3.5.0->openai==1.82.0) (3.10)\r\n",
      "Requirement already satisfied: certifi in /root/miniconda3/envs/deepseek/lib/python3.13/site-packages (from httpx<1,>=0.23.0->openai==1.82.0) (2025.8.3)\r\n",
      "Requirement already satisfied: httpcore==1.* in /root/miniconda3/envs/deepseek/lib/python3.13/site-packages (from httpx<1,>=0.23.0->openai==1.82.0) (1.0.9)\r\n",
      "Requirement already satisfied: h11>=0.16 in /root/miniconda3/envs/deepseek/lib/python3.13/site-packages (from httpcore==1.*->httpx<1,>=0.23.0->openai==1.82.0) (0.16.0)\r\n",
      "Collecting annotated-types>=0.6.0 (from pydantic<3,>=1.9.0->openai==1.82.0)\r\n",
      "  Downloading https://mirrors.aliyun.com/pypi/packages/78/b6/6307fbef88d9b5ee7421e68d78a9f162e0da4900bc5f5793f6d3d0e34fb8/annotated_types-0.7.0-py3-none-any.whl (13 kB)\r\n",
      "Collecting pydantic-core==2.33.2 (from pydantic<3,>=1.9.0->openai==1.82.0)\r\n",
      "  Downloading https://mirrors.aliyun.com/pypi/packages/eb/3c/f4abd740877a35abade05e437245b192f9d0ffb48bbbbd708df33d3cda37/pydantic_core-2.33.2-cp313-cp313-manylinux_2_17_x86_64.manylinux2014_x86_64.whl (2.0 MB)\r\n",
      "\u001B[2K     \u001B[90m━━━━━━━━━━━━━━━━━━━━━━━━━━━━━━━━━━━━━━━━\u001B[0m \u001B[32m2.0/2.0 MB\u001B[0m \u001B[31m2.1 MB/s\u001B[0m  \u001B[33m0:00:00\u001B[0m eta \u001B[36m0:00:01\u001B[0m\r\n",
      "\u001B[?25hCollecting typing-inspection>=0.4.0 (from pydantic<3,>=1.9.0->openai==1.82.0)\r\n",
      "  Downloading https://mirrors.aliyun.com/pypi/packages/17/69/cd203477f944c353c31bade965f880aa1061fd6bf05ded0726ca845b6ff7/typing_inspection-0.4.1-py3-none-any.whl (14 kB)\r\n",
      "Installing collected packages: typing-inspection, tqdm, pydantic-core, jiter, distro, annotated-types, pydantic, openai\r\n",
      "\u001B[2K   \u001B[90m━━━━━━━━━━━━━━━━━━━━━━━━━━━━━━━━━━━━━━━━\u001B[0m \u001B[32m8/8\u001B[0m [openai]2m7/8\u001B[0m [openai]c]\r\n",
      "\u001B[1A\u001B[2KSuccessfully installed annotated-types-0.7.0 distro-1.9.0 jiter-0.10.0 openai-1.82.0 pydantic-2.11.7 pydantic-core-2.33.2 tqdm-4.67.1 typing-inspection-0.4.1\r\n",
      "\u001B[33mWARNING: Running pip as the 'root' user can result in broken permissions and conflicting behaviour with the system package manager, possibly rendering your system unusable. It is recommended to use a virtual environment instead: https://pip.pypa.io/warnings/venv. Use the --root-user-action option if you know what you are doing and want to suppress this warning.\u001B[0m\u001B[33m\r\n",
      "\u001B[0m"
     ]
    }
   ],
   "source": [
    "import sys\n",
    "!pip install openai==1.82.0"
   ]
  },
  {
   "cell_type": "code",
   "id": "14dc02a3-4736-45f7-a2da-1978123fac95",
   "metadata": {
    "ExecuteTime": {
     "end_time": "2025-08-05T16:25:08.573828Z",
     "start_time": "2025-08-05T16:25:08.526938Z"
    }
   },
   "source": [
    "import os\n",
    "from openai import OpenAI\n",
    "\n",
    "# 从环境变量获取 DeepSeek API Key\n",
    "api_key = os.getenv(\"DEEPSEEK_API_KEY\")\n",
    "print(os.getenv(\"DEEPSEEK_API_KEY\"))\n",
    "if not api_key:\n",
    "    raise ValueError(\"请设置 DEEPSEEK_API_KEY 环境变量\")\n",
    "\n",
    "# 初始化 OpenAI 客户端（假设 DeepSeek 的 API 兼容 OpenAI 格式）\n",
    "client = OpenAI(\n",
    "    api_key=api_key,\n",
    "    base_url=\"https://api.deepseek.com/v1\",  # DeepSeek API 的基地址\n",
    ")\n",
    "\n",
    "# 定义提示词\n",
    "prompt = \"\"\"请帮我用 HTML 生成一个简单的人机对战的五子棋游戏，所有代码都保存在一个 HTML 中。\"\"\""
   ],
   "outputs": [
    {
     "name": "stdout",
     "output_type": "stream",
     "text": [
      "sk-9e393f6f1d2c4a9182864f1ce993cfc7\n"
     ]
    }
   ],
   "execution_count": 7
  },
  {
   "cell_type": "code",
   "id": "428f7ead-142c-4f5c-a57b-d9194b51d725",
   "metadata": {
    "ExecuteTime": {
     "end_time": "2025-08-05T16:27:54.147777Z",
     "start_time": "2025-08-05T16:25:10.974487Z"
    }
   },
   "source": [
    "try:\n",
    "    # 调用 DeepSeek Chat API\n",
    "    response = client.chat.completions.create(\n",
    "        model=\"deepseek-chat\",  # 或 DeepSeek 提供的其他模型名称\n",
    "        messages=[\n",
    "            {\"role\": \"system\", \"content\": \"你是一个专业的 Web 开发助手，擅长用 HTML/CSS/JavaScript 编写游戏。\"},\n",
    "            {\"role\": \"user\", \"content\": prompt}\n",
    "        ],\n",
    "        temperature=0.7,\n",
    "        stream=False\n",
    "    )\n",
    "\n",
    "    # 提取生成的 HTML 内容\n",
    "    if response.choices and len(response.choices) > 0:\n",
    "        html_content = response.choices[0].message.content\n",
    "        \n",
    "        # 保存到文件\n",
    "        with open(\"gomoku.html\", \"w\", encoding=\"utf-8\") as f:\n",
    "            f.write(html_content)\n",
    "        print(\"五子棋游戏已保存为 gomoku.html\")\n",
    "    else:\n",
    "        print(\"未收到有效响应\")\n",
    "\n",
    "except Exception as e:\n",
    "    print(f\"调用 API 出错: {e}\")"
   ],
   "outputs": [
    {
     "name": "stdout",
     "output_type": "stream",
     "text": [
      "五子棋游戏已保存为 gomoku.html\n"
     ]
    }
   ],
   "execution_count": 8
  },
  {
   "cell_type": "code",
   "execution_count": null,
   "id": "4648730d-2ec3-494f-9546-52a7687d4589",
   "metadata": {},
   "outputs": [],
   "source": []
  }
 ],
 "metadata": {
  "kernelspec": {
   "display_name": "Python 3 (ipykernel)",
   "language": "python",
   "name": "python3"
  },
  "language_info": {
   "codemirror_mode": {
    "name": "ipython",
    "version": 3
   },
   "file_extension": ".py",
   "mimetype": "text/x-python",
   "name": "python",
   "nbconvert_exporter": "python",
   "pygments_lexer": "ipython3",
   "version": "3.13.5"
  }
 },
 "nbformat": 4,
 "nbformat_minor": 5
}
