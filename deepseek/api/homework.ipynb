{
 "cells": [
  {
   "cell_type": "raw",
   "id": "4ac4e1a8e39d27d9",
   "metadata": {},
   "source": [
    "将课程项⽬中提供的⺠法典（节选）⽂档构建为知识库，并构建对应的RAG ，向其提出 2 个问题并查看⽣成结果。"
   ]
  },
  {
   "cell_type": "code",
   "execution_count": 1,
   "id": "2b54f54a07941f86",
   "metadata": {
    "ExecuteTime": {
     "end_time": "2025-08-14T00:03:07.914192Z",
     "start_time": "2025-08-14T00:03:00.970817Z"
    }
   },
   "outputs": [
    {
     "name": "stdout",
     "output_type": "stream",
     "text": [
      "Looking in indexes: https://mirrors.aliyun.com/pypi/simple/\r\n",
      "Requirement already satisfied: pymilvus==2.5.10 in /root/miniconda3/envs/deepseek/lib/python3.13/site-packages (from pymilvus[model]==2.5.10) (2.5.10)\r\n",
      "Requirement already satisfied: openai==1.82.0 in /root/miniconda3/envs/deepseek/lib/python3.13/site-packages (1.82.0)\r\n",
      "Requirement already satisfied: requests==2.32.3 in /root/miniconda3/envs/deepseek/lib/python3.13/site-packages (2.32.3)\r\n",
      "Requirement already satisfied: tqdm==4.67.1 in /root/miniconda3/envs/deepseek/lib/python3.13/site-packages (4.67.1)\r\n",
      "Requirement already satisfied: torch==2.7.0 in /root/miniconda3/envs/deepseek/lib/python3.13/site-packages (2.7.0)\r\n",
      "Requirement already satisfied: setuptools>69 in /root/miniconda3/envs/deepseek/lib/python3.13/site-packages (from pymilvus==2.5.10->pymilvus[model]==2.5.10) (78.1.1)\r\n",
      "Requirement already satisfied: grpcio<=1.67.1,>=1.49.1 in /root/miniconda3/envs/deepseek/lib/python3.13/site-packages (from pymilvus==2.5.10->pymilvus[model]==2.5.10) (1.67.1)\r\n",
      "Requirement already satisfied: protobuf>=3.20.0 in /root/miniconda3/envs/deepseek/lib/python3.13/site-packages (from pymilvus==2.5.10->pymilvus[model]==2.5.10) (6.31.1)\r\n",
      "Requirement already satisfied: python-dotenv<2.0.0,>=1.0.1 in /root/miniconda3/envs/deepseek/lib/python3.13/site-packages (from pymilvus==2.5.10->pymilvus[model]==2.5.10) (1.1.1)\r\n",
      "Requirement already satisfied: ujson>=2.0.0 in /root/miniconda3/envs/deepseek/lib/python3.13/site-packages (from pymilvus==2.5.10->pymilvus[model]==2.5.10) (5.10.0)\r\n",
      "Requirement already satisfied: pandas>=1.2.4 in /root/miniconda3/envs/deepseek/lib/python3.13/site-packages (from pymilvus==2.5.10->pymilvus[model]==2.5.10) (2.3.1)\r\n",
      "Requirement already satisfied: milvus-lite>=2.4.0 in /root/miniconda3/envs/deepseek/lib/python3.13/site-packages (from pymilvus==2.5.10->pymilvus[model]==2.5.10) (2.5.1)\r\n",
      "Requirement already satisfied: anyio<5,>=3.5.0 in /root/miniconda3/envs/deepseek/lib/python3.13/site-packages (from openai==1.82.0) (4.10.0)\r\n",
      "Requirement already satisfied: distro<2,>=1.7.0 in /root/miniconda3/envs/deepseek/lib/python3.13/site-packages (from openai==1.82.0) (1.9.0)\r\n",
      "Requirement already satisfied: httpx<1,>=0.23.0 in /root/miniconda3/envs/deepseek/lib/python3.13/site-packages (from openai==1.82.0) (0.28.1)\r\n",
      "Requirement already satisfied: jiter<1,>=0.4.0 in /root/miniconda3/envs/deepseek/lib/python3.13/site-packages (from openai==1.82.0) (0.10.0)\r\n",
      "Requirement already satisfied: pydantic<3,>=1.9.0 in /root/miniconda3/envs/deepseek/lib/python3.13/site-packages (from openai==1.82.0) (2.11.7)\r\n",
      "Requirement already satisfied: sniffio in /root/miniconda3/envs/deepseek/lib/python3.13/site-packages (from openai==1.82.0) (1.3.1)\r\n",
      "Requirement already satisfied: typing-extensions<5,>=4.11 in /root/miniconda3/envs/deepseek/lib/python3.13/site-packages (from openai==1.82.0) (4.14.1)\r\n",
      "Requirement already satisfied: charset-normalizer<4,>=2 in /root/miniconda3/envs/deepseek/lib/python3.13/site-packages (from requests==2.32.3) (3.4.2)\r\n",
      "Requirement already satisfied: idna<4,>=2.5 in /root/miniconda3/envs/deepseek/lib/python3.13/site-packages (from requests==2.32.3) (3.10)\r\n",
      "Requirement already satisfied: urllib3<3,>=1.21.1 in /root/miniconda3/envs/deepseek/lib/python3.13/site-packages (from requests==2.32.3) (2.5.0)\r\n",
      "Requirement already satisfied: certifi>=2017.4.17 in /root/miniconda3/envs/deepseek/lib/python3.13/site-packages (from requests==2.32.3) (2025.8.3)\r\n",
      "Requirement already satisfied: filelock in /root/miniconda3/envs/deepseek/lib/python3.13/site-packages (from torch==2.7.0) (3.18.0)\r\n",
      "Requirement already satisfied: sympy>=1.13.3 in /root/miniconda3/envs/deepseek/lib/python3.13/site-packages (from torch==2.7.0) (1.14.0)\r\n",
      "Requirement already satisfied: networkx in /root/miniconda3/envs/deepseek/lib/python3.13/site-packages (from torch==2.7.0) (3.5)\r\n",
      "Requirement already satisfied: jinja2 in /root/miniconda3/envs/deepseek/lib/python3.13/site-packages (from torch==2.7.0) (3.1.6)\r\n",
      "Requirement already satisfied: fsspec in /root/miniconda3/envs/deepseek/lib/python3.13/site-packages (from torch==2.7.0) (2025.7.0)\r\n",
      "Requirement already satisfied: nvidia-cuda-nvrtc-cu12==12.6.77 in /root/miniconda3/envs/deepseek/lib/python3.13/site-packages (from torch==2.7.0) (12.6.77)\r\n",
      "Requirement already satisfied: nvidia-cuda-runtime-cu12==12.6.77 in /root/miniconda3/envs/deepseek/lib/python3.13/site-packages (from torch==2.7.0) (12.6.77)\r\n",
      "Requirement already satisfied: nvidia-cuda-cupti-cu12==12.6.80 in /root/miniconda3/envs/deepseek/lib/python3.13/site-packages (from torch==2.7.0) (12.6.80)\r\n",
      "Requirement already satisfied: nvidia-cudnn-cu12==9.5.1.17 in /root/miniconda3/envs/deepseek/lib/python3.13/site-packages (from torch==2.7.0) (9.5.1.17)\r\n",
      "Requirement already satisfied: nvidia-cublas-cu12==12.6.4.1 in /root/miniconda3/envs/deepseek/lib/python3.13/site-packages (from torch==2.7.0) (12.6.4.1)\r\n",
      "Requirement already satisfied: nvidia-cufft-cu12==11.3.0.4 in /root/miniconda3/envs/deepseek/lib/python3.13/site-packages (from torch==2.7.0) (11.3.0.4)\r\n",
      "Requirement already satisfied: nvidia-curand-cu12==10.3.7.77 in /root/miniconda3/envs/deepseek/lib/python3.13/site-packages (from torch==2.7.0) (10.3.7.77)\r\n",
      "Requirement already satisfied: nvidia-cusolver-cu12==11.7.1.2 in /root/miniconda3/envs/deepseek/lib/python3.13/site-packages (from torch==2.7.0) (11.7.1.2)\r\n",
      "Requirement already satisfied: nvidia-cusparse-cu12==12.5.4.2 in /root/miniconda3/envs/deepseek/lib/python3.13/site-packages (from torch==2.7.0) (12.5.4.2)\r\n",
      "Requirement already satisfied: nvidia-cusparselt-cu12==0.6.3 in /root/miniconda3/envs/deepseek/lib/python3.13/site-packages (from torch==2.7.0) (0.6.3)\r\n",
      "Requirement already satisfied: nvidia-nccl-cu12==2.26.2 in /root/miniconda3/envs/deepseek/lib/python3.13/site-packages (from torch==2.7.0) (2.26.2)\r\n",
      "Requirement already satisfied: nvidia-nvtx-cu12==12.6.77 in /root/miniconda3/envs/deepseek/lib/python3.13/site-packages (from torch==2.7.0) (12.6.77)\r\n",
      "Requirement already satisfied: nvidia-nvjitlink-cu12==12.6.85 in /root/miniconda3/envs/deepseek/lib/python3.13/site-packages (from torch==2.7.0) (12.6.85)\r\n",
      "Requirement already satisfied: nvidia-cufile-cu12==1.11.1.6 in /root/miniconda3/envs/deepseek/lib/python3.13/site-packages (from torch==2.7.0) (1.11.1.6)\r\n",
      "Requirement already satisfied: triton==3.3.0 in /root/miniconda3/envs/deepseek/lib/python3.13/site-packages (from torch==2.7.0) (3.3.0)\r\n",
      "Requirement already satisfied: pymilvus.model>=0.3.0 in /root/miniconda3/envs/deepseek/lib/python3.13/site-packages (from pymilvus[model]==2.5.10) (0.3.2)\r\n",
      "Requirement already satisfied: httpcore==1.* in /root/miniconda3/envs/deepseek/lib/python3.13/site-packages (from httpx<1,>=0.23.0->openai==1.82.0) (1.0.9)\r\n",
      "Requirement already satisfied: h11>=0.16 in /root/miniconda3/envs/deepseek/lib/python3.13/site-packages (from httpcore==1.*->httpx<1,>=0.23.0->openai==1.82.0) (0.16.0)\r\n",
      "Requirement already satisfied: annotated-types>=0.6.0 in /root/miniconda3/envs/deepseek/lib/python3.13/site-packages (from pydantic<3,>=1.9.0->openai==1.82.0) (0.7.0)\r\n",
      "Requirement already satisfied: pydantic-core==2.33.2 in /root/miniconda3/envs/deepseek/lib/python3.13/site-packages (from pydantic<3,>=1.9.0->openai==1.82.0) (2.33.2)\r\n",
      "Requirement already satisfied: typing-inspection>=0.4.0 in /root/miniconda3/envs/deepseek/lib/python3.13/site-packages (from pydantic<3,>=1.9.0->openai==1.82.0) (0.4.1)\r\n",
      "Requirement already satisfied: numpy>=1.26.0 in /root/miniconda3/envs/deepseek/lib/python3.13/site-packages (from pandas>=1.2.4->pymilvus==2.5.10->pymilvus[model]==2.5.10) (2.3.2)\r\n",
      "Requirement already satisfied: python-dateutil>=2.8.2 in /root/miniconda3/envs/deepseek/lib/python3.13/site-packages (from pandas>=1.2.4->pymilvus==2.5.10->pymilvus[model]==2.5.10) (2.9.0.post0)\r\n",
      "Requirement already satisfied: pytz>=2020.1 in /root/miniconda3/envs/deepseek/lib/python3.13/site-packages (from pandas>=1.2.4->pymilvus==2.5.10->pymilvus[model]==2.5.10) (2025.2)\r\n",
      "Requirement already satisfied: tzdata>=2022.7 in /root/miniconda3/envs/deepseek/lib/python3.13/site-packages (from pandas>=1.2.4->pymilvus==2.5.10->pymilvus[model]==2.5.10) (2025.2)\r\n",
      "Requirement already satisfied: transformers>=4.36.0 in /root/miniconda3/envs/deepseek/lib/python3.13/site-packages (from pymilvus.model>=0.3.0->pymilvus[model]==2.5.10) (4.55.0)\r\n",
      "Requirement already satisfied: onnxruntime in /root/miniconda3/envs/deepseek/lib/python3.13/site-packages (from pymilvus.model>=0.3.0->pymilvus[model]==2.5.10) (1.22.1)\r\n",
      "Requirement already satisfied: scipy>=1.10.0 in /root/miniconda3/envs/deepseek/lib/python3.13/site-packages (from pymilvus.model>=0.3.0->pymilvus[model]==2.5.10) (1.16.1)\r\n",
      "Requirement already satisfied: six>=1.5 in /root/miniconda3/envs/deepseek/lib/python3.13/site-packages (from python-dateutil>=2.8.2->pandas>=1.2.4->pymilvus==2.5.10->pymilvus[model]==2.5.10) (1.17.0)\r\n",
      "Requirement already satisfied: mpmath<1.4,>=1.1.0 in /root/miniconda3/envs/deepseek/lib/python3.13/site-packages (from sympy>=1.13.3->torch==2.7.0) (1.3.0)\r\n",
      "Requirement already satisfied: huggingface-hub<1.0,>=0.34.0 in /root/miniconda3/envs/deepseek/lib/python3.13/site-packages (from transformers>=4.36.0->pymilvus.model>=0.3.0->pymilvus[model]==2.5.10) (0.34.3)\r\n",
      "Requirement already satisfied: packaging>=20.0 in /root/miniconda3/envs/deepseek/lib/python3.13/site-packages (from transformers>=4.36.0->pymilvus.model>=0.3.0->pymilvus[model]==2.5.10) (25.0)\r\n",
      "Requirement already satisfied: pyyaml>=5.1 in /root/miniconda3/envs/deepseek/lib/python3.13/site-packages (from transformers>=4.36.0->pymilvus.model>=0.3.0->pymilvus[model]==2.5.10) (6.0.2)\r\n",
      "Requirement already satisfied: regex!=2019.12.17 in /root/miniconda3/envs/deepseek/lib/python3.13/site-packages (from transformers>=4.36.0->pymilvus.model>=0.3.0->pymilvus[model]==2.5.10) (2025.7.33)\r\n",
      "Requirement already satisfied: tokenizers<0.22,>=0.21 in /root/miniconda3/envs/deepseek/lib/python3.13/site-packages (from transformers>=4.36.0->pymilvus.model>=0.3.0->pymilvus[model]==2.5.10) (0.21.4)\r\n",
      "Requirement already satisfied: safetensors>=0.4.3 in /root/miniconda3/envs/deepseek/lib/python3.13/site-packages (from transformers>=4.36.0->pymilvus.model>=0.3.0->pymilvus[model]==2.5.10) (0.6.1)\r\n",
      "Requirement already satisfied: hf-xet<2.0.0,>=1.1.3 in /root/miniconda3/envs/deepseek/lib/python3.13/site-packages (from huggingface-hub<1.0,>=0.34.0->transformers>=4.36.0->pymilvus.model>=0.3.0->pymilvus[model]==2.5.10) (1.1.7)\r\n",
      "Requirement already satisfied: MarkupSafe>=2.0 in /root/miniconda3/envs/deepseek/lib/python3.13/site-packages (from jinja2->torch==2.7.0) (3.0.2)\r\n",
      "Requirement already satisfied: coloredlogs in /root/miniconda3/envs/deepseek/lib/python3.13/site-packages (from onnxruntime->pymilvus.model>=0.3.0->pymilvus[model]==2.5.10) (15.0.1)\r\n",
      "Requirement already satisfied: flatbuffers in /root/miniconda3/envs/deepseek/lib/python3.13/site-packages (from onnxruntime->pymilvus.model>=0.3.0->pymilvus[model]==2.5.10) (25.2.10)\r\n",
      "Requirement already satisfied: humanfriendly>=9.1 in /root/miniconda3/envs/deepseek/lib/python3.13/site-packages (from coloredlogs->onnxruntime->pymilvus.model>=0.3.0->pymilvus[model]==2.5.10) (10.0)\r\n",
      "\u001B[33mWARNING: Running pip as the 'root' user can result in broken permissions and conflicting behaviour with the system package manager, possibly rendering your system unusable. It is recommended to use a virtual environment instead: https://pip.pypa.io/warnings/venv. Use the --root-user-action option if you know what you are doing and want to suppress this warning.\u001B[0m\u001B[33m\r\n",
      "\u001B[0m"
     ]
    }
   ],
   "source": [
    "!pip install \"pymilvus[model]==2.5.10\" openai==1.82.0 requests==2.32.3 tqdm==4.67.1 torch==2.7.0"
   ]
  },
  {
   "cell_type": "code",
   "id": "e6552a1a305a9a12",
   "metadata": {
    "ExecuteTime": {
     "end_time": "2025-08-16T10:16:52.658359Z",
     "start_time": "2025-08-16T10:16:52.652639Z"
    }
   },
   "source": [
    "import os\n",
    "\n",
    "# 设置HuggingFace镜像站\n",
    "os.environ[\"HF_ENDPOINT\"] = \"https://hf-mirror.com\"\n",
    "os.environ[\"HUGGINGFACE_CO_URL_HOME\"] = \"https://hf-mirror.com\"\n",
    "# 用来关闭 Xet 下载路径。关闭后将走常规下载（此时你设置的镜像站才真正生效）\n",
    "os.environ[\"HF_HUB_DISABLE_XET\"] = \"1\"   # 关键开关：禁用 Xet/CAS\n",
    "\n",
    "# 从环境变量获取 DeepSeek API Key\n",
    "api_key = os.getenv(\"DEEPSEEK_API_KEY\")"
   ],
   "outputs": [],
   "execution_count": 1
  },
  {
   "cell_type": "code",
   "id": "f6bb3f9f7604030a",
   "metadata": {
    "ExecuteTime": {
     "end_time": "2025-08-16T10:16:54.021796Z",
     "start_time": "2025-08-16T10:16:54.005535Z"
    }
   },
   "source": [
    "# 加载数据\n",
    "with open('mfd.md') as f:\n",
    "    all_text = f.read()\n",
    "# texts = all_text.split('\\n\\n')\n",
    "texts = all_text.split('#### ')\n",
    "len(texts)"
   ],
   "outputs": [
    {
     "data": {
      "text/plain": [
       "27"
      ]
     },
     "execution_count": 2,
     "metadata": {},
     "output_type": "execute_result"
    }
   ],
   "execution_count": 2
  },
  {
   "cell_type": "code",
   "id": "18eac80074ddd529",
   "metadata": {
    "ExecuteTime": {
     "end_time": "2025-08-16T10:16:57.945568Z",
     "start_time": "2025-08-16T10:16:55.790974Z"
    }
   },
   "source": [
    "from openai import OpenAI\n",
    "\n",
    "deepseek_client = OpenAI(\n",
    "    api_key=api_key,\n",
    "    base_url=\"https://api.deepseek.com/v1\",  # DeepSeek API 的基地址\n",
    ")"
   ],
   "outputs": [],
   "execution_count": 3
  },
  {
   "cell_type": "code",
   "id": "initial_id",
   "metadata": {
    "ExecuteTime": {
     "end_time": "2025-08-16T10:18:21.812485Z",
     "start_time": "2025-08-16T10:17:00.651791Z"
    }
   },
   "source": [
    "# 适合处理英文\n",
    "# from pymilvus import model as milvus_model\n",
    "# embedding_model = milvus_model.DefaultEmbeddingFunction()\n",
    "\n",
    "# 适合处理中文\n",
    "from pymilvus.model.dense import SentenceTransformerEmbeddingFunction\n",
    "# 效果不行\n",
    "# embedding_model = SentenceTransformerEmbeddingFunction()\n",
    "# BAAI/bge-small-zh-v1.5效果不错，BAAI/bge-large-zh-v1.5待测试\n",
    "embedding_model = SentenceTransformerEmbeddingFunction(model_name=\"BAAI/bge-small-zh-v1.5\")\n",
    "\n",
    "result = embedding_model.encode_queries([\"你好，世界\"])\n",
    "embedding_dim = len(result[0])\n",
    "print(embedding_dim)\n",
    "print(result[0][:10])"
   ],
   "outputs": [
    {
     "name": "stderr",
     "output_type": "stream",
     "text": [
      "/root/miniconda3/envs/deepseek/lib/python3.13/site-packages/tqdm/auto.py:21: TqdmWarning: IProgress not found. Please update jupyter and ipywidgets. See https://ipywidgets.readthedocs.io/en/stable/user_install.html\n",
      "  from .autonotebook import tqdm as notebook_tqdm\n"
     ]
    },
    {
     "name": "stdout",
     "output_type": "stream",
     "text": [
      "512\n",
      "[-0.00623569  0.05621756  0.0564207   0.01282544  0.0287137  -0.02857026\n",
      " -0.03341608  0.00869474 -0.01237282  0.05736669]\n"
     ]
    }
   ],
   "execution_count": 4
  },
  {
   "cell_type": "code",
   "id": "8059d4d530378f9c",
   "metadata": {
    "ExecuteTime": {
     "end_time": "2025-08-16T10:21:51.122612Z",
     "start_time": "2025-08-16T10:21:51.114277Z"
    }
   },
   "source": [
    "#删除homework.db\n",
    "if os.path.exists(\"./homework.db\"):\n",
    "    os.remove(\"./homework.db\")\n",
    "    os.remove(\"./.homework.db.lock\")"
   ],
   "outputs": [],
   "execution_count": 5
  },
  {
   "cell_type": "code",
   "id": "66ee170d4f642806",
   "metadata": {
    "ExecuteTime": {
     "end_time": "2025-08-16T10:21:55.309967Z",
     "start_time": "2025-08-16T10:21:52.964292Z"
    }
   },
   "source": [
    "from pymilvus import MilvusClient\n",
    "milvus_client = MilvusClient('./homework.db')\n",
    "collection_name = 'homework'"
   ],
   "outputs": [],
   "execution_count": 6
  },
  {
   "cell_type": "code",
   "id": "64f24d935c5ab891",
   "metadata": {
    "ExecuteTime": {
     "end_time": "2025-08-16T10:21:57.735348Z",
     "start_time": "2025-08-16T10:21:56.639701Z"
    }
   },
   "source": [
    "if milvus_client.has_collection(collection_name):\n",
    "    milvus_client.drop_collection(collection_name)\n",
    "\n",
    "milvus_client.create_collection(\n",
    "    collection_name=collection_name,\n",
    "    dimension=embedding_dim,\n",
    "    metric_type=\"IP\",  # 内积距离\n",
    "    consistency_level=\"Strong\",  # 支持的值为 (`\"Strong\"`, `\"Session\"`, `\"Bounded\"`, `\"Eventually\"`)。更多详情请参见 https://milvus.io/docs/consistency.md#Consistency-Level。\n",
    ")"
   ],
   "outputs": [],
   "execution_count": 7
  },
  {
   "cell_type": "code",
   "id": "e9aaef2f8fe4d405",
   "metadata": {
    "ExecuteTime": {
     "end_time": "2025-08-16T10:22:02.987744Z",
     "start_time": "2025-08-16T10:21:59.163208Z"
    }
   },
   "source": [
    "from tqdm import tqdm\n",
    "\n",
    "data = []\n",
    "\n",
    "doc_embeddings = embedding_model.encode_documents(texts)\n",
    "\n",
    "for i, line in enumerate(tqdm(texts, desc=\"Creating embeddings\")):\n",
    "    data.append({\"id\": i, \"vector\": doc_embeddings[i], \"text\": line})\n",
    "\n",
    "milvus_client.insert(collection_name=collection_name, data=data)"
   ],
   "outputs": [
    {
     "name": "stderr",
     "output_type": "stream",
     "text": [
      "Creating embeddings: 100%|██████████| 27/27 [00:00<00:00, 212868.81it/s]\n"
     ]
    },
    {
     "data": {
      "text/plain": [
       "{'insert_count': 27, 'ids': [0, 1, 2, 3, 4, 5, 6, 7, 8, 9, 10, 11, 12, 13, 14, 15, 16, 17, 18, 19, 20, 21, 22, 23, 24, 25, 26], 'cost': 0}"
      ]
     },
     "execution_count": 8,
     "metadata": {},
     "output_type": "execute_result"
    }
   ],
   "execution_count": 8
  },
  {
   "cell_type": "code",
   "id": "707da95276a9ca90",
   "metadata": {
    "ExecuteTime": {
     "end_time": "2025-08-16T10:22:45.015918Z",
     "start_time": "2025-08-16T10:22:44.986354Z"
    }
   },
   "source": [
    "# question = \"合同的权利义务终止\"\n",
    "question = \"哪些情形会造成合同的权利义务终止\"\n",
    "# question = \"拾得遗失物，如何处理？\"\n",
    "search_res = milvus_client.search(\n",
    "    collection_name=collection_name,\n",
    "    data=embedding_model.encode_queries(\n",
    "        [question]\n",
    "    ),  # 将问题转换为嵌入向量\n",
    "    limit=3,  # 返回前3个结果\n",
    "    search_params={\"metric_type\": \"IP\", \"params\": {}},  # 内积距离\n",
    "    output_fields=[\"text\"],  # 返回 text 字段\n",
    ")"
   ],
   "outputs": [],
   "execution_count": 12
  },
  {
   "cell_type": "code",
   "id": "c458b8dd87d7d9c",
   "metadata": {
    "ExecuteTime": {
     "end_time": "2025-08-16T10:22:55.663604Z",
     "start_time": "2025-08-16T10:22:55.658706Z"
    }
   },
   "source": [
    "import json\n",
    "\n",
    "retrieved_lines_with_distances = [\n",
    "    (res[\"entity\"][\"text\"], res[\"distance\"]) for res in search_res[0]\n",
    "]\n",
    "print(json.dumps(retrieved_lines_with_distances, indent=4))"
   ],
   "outputs": [
    {
     "name": "stdout",
     "output_type": "stream",
     "text": [
      "[\n",
      "    [\n",
      "        \"\\u7b2c\\u56db\\u7ae0 \\u5408\\u540c\\u7684\\u6743\\u5229\\u4e49\\u52a1\\u7ec8\\u6b62\\n\\n**\\u7b2c\\u4e94\\u767e\\u4e94\\u5341\\u4e03\\u6761** \\u6709\\u4e0b\\u5217\\u60c5\\u5f62\\u4e4b\\u4e00\\u7684\\uff0c\\u5408\\u540c\\u7684\\u6743\\u5229\\u4e49\\u52a1\\u7ec8\\u6b62\\uff1a\\n\\uff08\\u4e00\\uff09\\u503a\\u52a1\\u5df2\\u7ecf\\u5c65\\u884c\\uff1b\\n\\uff08\\u4e8c\\uff09\\u5408\\u540c\\u89e3\\u9664\\uff1b\\n\\uff08\\u4e09\\uff09\\u503a\\u52a1\\u76f8\\u4e92\\u62b5\\u9500\\uff1b\\n\\uff08\\u56db\\uff09\\u503a\\u52a1\\u4eba\\u4f9d\\u6cd5\\u5c06\\u6807\\u7684\\u7269\\u63d0\\u5b58\\uff1b\\n\\uff08\\u4e94\\uff09\\u503a\\u6743\\u4eba\\u514d\\u9664\\u503a\\u52a1\\uff1b\\n\\uff08\\u516d\\uff09\\u503a\\u6743\\u503a\\u52a1\\u540c\\u5f52\\u4e00\\u4eba\\uff1b\\n\\uff08\\u4e03\\uff09\\u6cd5\\u5f8b\\u89c4\\u5b9a\\u6216\\u8005\\u5f53\\u4e8b\\u4eba\\u7ea6\\u5b9a\\u7ec8\\u6b62\\u7684\\u5176\\u4ed6\\u60c5\\u5f62\\u3002\\n\\n**\\u7b2c\\u4e94\\u767e\\u4e94\\u5341\\u516b\\u6761** \\u5408\\u540c\\u7ec8\\u6b62\\u540e\\uff0c\\u5f53\\u4e8b\\u4eba\\u5e94\\u5f53\\u9075\\u5faa\\u8bda\\u4fe1\\u539f\\u5219\\uff0c\\u6839\\u636e\\u4ea4\\u6613\\u4e60\\u60ef\\u5c65\\u884c\\u901a\\u77e5\\u3001\\u534f\\u52a9\\u3001\\u4fdd\\u5bc6\\u7b49\\u4e49\\u52a1\\u3002\\n\\n**\\u7b2c\\u4e94\\u767e\\u4e94\\u5341\\u4e5d\\u6761** \\u5408\\u540c\\u7684\\u6743\\u5229\\u4e49\\u52a1\\u7ec8\\u6b62\\u540e\\uff0c\\u5f53\\u4e8b\\u4eba\\u5e94\\u5f53\\u5c65\\u884c\\u6e05\\u7406\\u4e49\\u52a1\\u3002\\n\\n**\\u7b2c\\u4e94\\u767e\\u516d\\u5341\\u6761** \\u5f53\\u4e8b\\u4eba\\u4e00\\u65b9\\u4f9d\\u7167\\u6cd5\\u5f8b\\u89c4\\u5b9a\\u6216\\u8005\\u5408\\u540c\\u7ea6\\u5b9a\\u89e3\\u9664\\u5408\\u540c\\u7684\\uff0c\\u5408\\u540c\\u7684\\u6743\\u5229\\u4e49\\u52a1\\u7ec8\\u6b62\\u3002\\n\\n**\\u7b2c\\u4e94\\u767e\\u516d\\u5341\\u4e00\\u6761** \\u5f53\\u4e8b\\u4eba\\u4e00\\u65b9\\u4e0d\\u5c65\\u884c\\u5408\\u540c\\u4e49\\u52a1\\u6216\\u8005\\u5c65\\u884c\\u5408\\u540c\\u4e49\\u52a1\\u4e0d\\u7b26\\u5408\\u7ea6\\u5b9a\\u7684\\uff0c\\u5bf9\\u65b9\\u6709\\u6743\\u8bf7\\u6c42\\u5176\\u627f\\u62c5\\u8fdd\\u7ea6\\u8d23\\u4efb\\u3002\\n\\n**\\u7b2c\\u4e94\\u767e\\u516d\\u5341\\u4e8c\\u6761** \\u6709\\u4e0b\\u5217\\u60c5\\u5f62\\u4e4b\\u4e00\\u7684\\uff0c\\u5f53\\u4e8b\\u4eba\\u53ef\\u4ee5\\u89e3\\u9664\\u5408\\u540c\\uff1a\\n\\uff08\\u4e00\\uff09\\u56e0\\u4e0d\\u53ef\\u6297\\u529b\\u81f4\\u4f7f\\u4e0d\\u80fd\\u5b9e\\u73b0\\u5408\\u540c\\u76ee\\u7684\\uff1b\\n\\uff08\\u4e8c\\uff09\\u5728\\u5c65\\u884c\\u671f\\u9650\\u5c4a\\u6ee1\\u524d\\uff0c\\u4e00\\u65b9\\u660e\\u786e\\u8868\\u793a\\u6216\\u8005\\u4ee5\\u81ea\\u5df1\\u7684\\u884c\\u4e3a\\u8868\\u660e\\u4e0d\\u5c65\\u884c\\u4e3b\\u8981\\u503a\\u52a1\\uff1b\\n\\uff08\\u4e09\\uff09\\u4e00\\u65b9\\u8fdf\\u5ef6\\u5c65\\u884c\\u4e3b\\u8981\\u503a\\u52a1\\uff0c\\u7ecf\\u50ac\\u544a\\u540e\\u5728\\u5408\\u7406\\u671f\\u9650\\u5185\\u4ecd\\u672a\\u5c65\\u884c\\uff1b\\n\\uff08\\u56db\\uff09\\u4e00\\u65b9\\u8fdf\\u5ef6\\u5c65\\u884c\\u503a\\u52a1\\u6216\\u8005\\u6709\\u5176\\u4ed6\\u8fdd\\u7ea6\\u884c\\u4e3a\\u81f4\\u4f7f\\u4e0d\\u80fd\\u5b9e\\u73b0\\u5408\\u540c\\u76ee\\u7684\\uff1b\\n\\uff08\\u4e94\\uff09\\u6cd5\\u5f8b\\u89c4\\u5b9a\\u7684\\u5176\\u4ed6\\u60c5\\u5f62\\u3002\\n\\n**\\u7b2c\\u4e94\\u767e\\u516d\\u5341\\u4e09\\u6761** \\u5f53\\u4e8b\\u4eba\\u53ef\\u4ee5\\u7ea6\\u5b9a\\u4e00\\u65b9\\u89e3\\u9664\\u5408\\u540c\\u7684\\u4e8b\\u7531\\u3002\\u89e3\\u9664\\u5408\\u540c\\u7684\\u4e8b\\u7531\\u53d1\\u751f\\u65f6\\uff0c\\u89e3\\u9664\\u6743\\u4eba\\u53ef\\u4ee5\\u89e3\\u9664\\u5408\\u540c\\u3002\\n\\n**\\u7b2c\\u4e94\\u767e\\u516d\\u5341\\u56db\\u6761** \\u6cd5\\u5f8b\\u89c4\\u5b9a\\u6216\\u8005\\u5f53\\u4e8b\\u4eba\\u7ea6\\u5b9a\\u89e3\\u9664\\u6743\\u884c\\u4f7f\\u671f\\u9650\\uff0c\\u671f\\u9650\\u5c4a\\u6ee1\\u5f53\\u4e8b\\u4eba\\u4e0d\\u884c\\u4f7f\\u7684\\uff0c\\u8be5\\u6743\\u5229\\u6d88\\u706d\\u3002\\n\\u6cd5\\u5f8b\\u6ca1\\u6709\\u89c4\\u5b9a\\u6216\\u8005\\u5f53\\u4e8b\\u4eba\\u6ca1\\u6709\\u7ea6\\u5b9a\\u89e3\\u9664\\u6743\\u884c\\u4f7f\\u671f\\u9650\\uff0c\\u7ecf\\u5bf9\\u65b9\\u50ac\\u544a\\u540e\\u5728\\u5408\\u7406\\u671f\\u9650\\u5185\\u4e0d\\u884c\\u4f7f\\u7684\\uff0c\\u8be5\\u6743\\u5229\\u6d88\\u706d\\u3002\\n\\n**\\u7b2c\\u4e94\\u767e\\u516d\\u5341\\u4e94\\u6761** \\u5f53\\u4e8b\\u4eba\\u4e00\\u65b9\\u89e3\\u9664\\u5408\\u540c\\u7684\\uff0c\\u5e94\\u5f53\\u901a\\u77e5\\u5bf9\\u65b9\\u3002\\u5408\\u540c\\u81ea\\u901a\\u77e5\\u5230\\u8fbe\\u5bf9\\u65b9\\u65f6\\u89e3\\u9664\\uff1b\\u901a\\u77e5\\u8f7d\\u660e\\u503a\\u52a1\\u4eba\\u5728\\u4e00\\u5b9a\\u671f\\u9650\\u5185\\u4e0d\\u5c65\\u884c\\u503a\\u52a1\\u5219\\u5408\\u540c\\u81ea\\u52a8\\u89e3\\u9664\\uff0c\\u503a\\u52a1\\u4eba\\u5728\\u8be5\\u671f\\u9650\\u5185\\u672a\\u5c65\\u884c\\u503a\\u52a1\\u7684\\uff0c\\u5408\\u540c\\u81ea\\u671f\\u9650\\u5c4a\\u6ee1\\u65f6\\u89e3\\u9664\\u3002\\n\\u5bf9\\u65b9\\u6709\\u5f02\\u8bae\\u7684\\uff0c\\u53ef\\u4ee5\\u8bf7\\u6c42\\u4eba\\u6c11\\u6cd5\\u9662\\u6216\\u8005\\u4ef2\\u88c1\\u673a\\u6784\\u786e\\u8ba4\\u89e3\\u9664\\u884c\\u4e3a\\u7684\\u6548\\u529b\\u3002\\n\\n**\\u7b2c\\u4e94\\u767e\\u516d\\u5341\\u516d\\u6761** \\u5408\\u540c\\u89e3\\u9664\\u540e\\uff0c\\u5c1a\\u672a\\u5c65\\u884c\\u7684\\uff0c\\u7ec8\\u6b62\\u5c65\\u884c\\uff1b\\u5df2\\u7ecf\\u5c65\\u884c\\u7684\\uff0c\\u6839\\u636e\\u5c65\\u884c\\u60c5\\u51b5\\u548c\\u5408\\u540c\\u6027\\u8d28\\uff0c\\u5f53\\u4e8b\\u4eba\\u53ef\\u4ee5\\u8bf7\\u6c42\\u6062\\u590d\\u539f\\u72b6\\u6216\\u8005\\u91c7\\u53d6\\u5176\\u4ed6\\u8865\\u6551\\u63aa\\u65bd\\uff0c\\u5e76\\u6709\\u6743\\u8bf7\\u6c42\\u8d54\\u507f\\u635f\\u5931\\u3002\\n\\u5408\\u540c\\u56e0\\u8fdd\\u7ea6\\u89e3\\u9664\\u7684\\uff0c\\u89e3\\u9664\\u6743\\u4eba\\u53ef\\u4ee5\\u8bf7\\u6c42\\u8fdd\\u7ea6\\u65b9\\u627f\\u62c5\\u8fdd\\u7ea6\\u8d23\\u4efb\\u3002\\n\\n**\\u7b2c\\u4e94\\u767e\\u516d\\u5341\\u4e03\\u6761** \\u5408\\u540c\\u7684\\u6743\\u5229\\u4e49\\u52a1\\u7ec8\\u6b62\\u540e\\uff0c\\u5f53\\u4e8b\\u4eba\\u5e94\\u5f53\\u5c65\\u884c\\u6e05\\u7406\\u4e49\\u52a1\\u3002\\n\\u5408\\u540c\\u7ec8\\u6b62\\u540e\\uff0c\\u5f53\\u4e8b\\u4eba\\u53ef\\u4ee5\\u7ea6\\u5b9a\\u5408\\u540c\\u7ec8\\u6b62\\u540e\\u7684\\u6743\\u5229\\u4e49\\u52a1\\u3002\\n\\u6cd5\\u5f8b\\u3001\\u884c\\u653f\\u6cd5\\u89c4\\u5bf9\\u5408\\u540c\\u7ec8\\u6b62\\u540e\\u7684\\u6743\\u5229\\u4e49\\u52a1\\u6709\\u7279\\u522b\\u89c4\\u5b9a\\u7684\\uff0c\\u4f9d\\u7167\\u5176\\u89c4\\u5b9a\\u3002\\n\\n**\\u7b2c\\u4e94\\u767e\\u516d\\u5341\\u516b\\u6761** \\u503a\\u6743\\u4eba\\u514d\\u9664\\u503a\\u52a1\\u4eba\\u90e8\\u5206\\u6216\\u8005\\u5168\\u90e8\\u503a\\u52a1\\u7684\\uff0c\\u5408\\u540c\\u7684\\u6743\\u5229\\u4e49\\u52a1\\u90e8\\u5206\\u6216\\u8005\\u5168\\u90e8\\u7ec8\\u6b62\\u3002\\n\\n**\\u7b2c\\u4e94\\u767e\\u516d\\u5341\\u4e5d\\u6761** \\u503a\\u6743\\u548c\\u503a\\u52a1\\u540c\\u5f52\\u4e00\\u4eba\\uff0c\\u5408\\u540c\\u7684\\u6743\\u5229\\u4e49\\u52a1\\u7ec8\\u6b62\\uff0c\\u4f46\\u662f\\u4e0d\\u635f\\u5bb3\\u7b2c\\u4e09\\u4eba\\u5229\\u76ca\\u7684\\u9664\\u5916\\u3002\\n\\n**\\u7b2c\\u4e94\\u767e\\u4e03\\u5341\\u6761** \\u5408\\u540c\\u89e3\\u9664\\u7684\\uff0c\\u4e0d\\u5f71\\u54cd\\u5f53\\u4e8b\\u4eba\\u8bf7\\u6c42\\u8d54\\u507f\\u635f\\u5931\\u7684\\u6743\\u5229\\u3002\\n\\n\",\n",
      "        0.7888360023498535\n",
      "    ],\n",
      "    [\n",
      "        \"\\u7b2c\\u4e8c\\u7ae0 \\u5408\\u540c\\u7684\\u5c65\\u884c\\n\\n**\\u7b2c\\u4e94\\u767e\\u4e8c\\u5341\\u4e09\\u6761** \\u5f53\\u4e8b\\u4eba\\u5e94\\u5f53\\u6309\\u7167\\u7ea6\\u5b9a\\u5168\\u9762\\u5c65\\u884c\\u81ea\\u5df1\\u7684\\u4e49\\u52a1\\u3002\\n\\n**\\u7b2c\\u4e94\\u767e\\u4e8c\\u5341\\u56db\\u6761** \\u5f53\\u4e8b\\u4eba\\u5e94\\u5f53\\u9075\\u5faa\\u8bda\\u4fe1\\u539f\\u5219\\uff0c\\u6839\\u636e\\u5408\\u540c\\u7684\\u6027\\u8d28\\u3001\\u76ee\\u7684\\u548c\\u4ea4\\u6613\\u4e60\\u60ef\\u5c65\\u884c\\u901a\\u77e5\\u3001\\u534f\\u52a9\\u3001\\u4fdd\\u5bc6\\u7b49\\u4e49\\u52a1\\u3002\\n\\n**\\u7b2c\\u4e94\\u767e\\u4e8c\\u5341\\u4e94\\u6761** \\u5f53\\u4e8b\\u4eba\\u4e92\\u8d1f\\u503a\\u52a1\\uff0c\\u6ca1\\u6709\\u5148\\u540e\\u5c65\\u884c\\u987a\\u5e8f\\u7684\\uff0c\\u5e94\\u5f53\\u540c\\u65f6\\u5c65\\u884c\\u3002\\u4e00\\u65b9\\u5728\\u5bf9\\u65b9\\u5c65\\u884c\\u4e4b\\u524d\\u6709\\u6743\\u62d2\\u7edd\\u5176\\u5c65\\u884c\\u8bf7\\u6c42\\u3002\\u4e00\\u65b9\\u5728\\u5bf9\\u65b9\\u5c65\\u884c\\u503a\\u52a1\\u4e0d\\u7b26\\u5408\\u7ea6\\u5b9a\\u65f6\\uff0c\\u6709\\u6743\\u62d2\\u7edd\\u5176\\u76f8\\u5e94\\u7684\\u5c65\\u884c\\u8bf7\\u6c42\\u3002\\n\\n**\\u7b2c\\u4e94\\u767e\\u4e8c\\u5341\\u516d\\u6761** \\u5f53\\u4e8b\\u4eba\\u4e92\\u8d1f\\u503a\\u52a1\\uff0c\\u6709\\u5148\\u540e\\u5c65\\u884c\\u987a\\u5e8f\\uff0c\\u5148\\u5c65\\u884c\\u4e00\\u65b9\\u672a\\u5c65\\u884c\\u7684\\uff0c\\u540e\\u5c65\\u884c\\u4e00\\u65b9\\u6709\\u6743\\u62d2\\u7edd\\u5176\\u5c65\\u884c\\u8bf7\\u6c42\\u3002\\u5148\\u5c65\\u884c\\u4e00\\u65b9\\u5c65\\u884c\\u503a\\u52a1\\u4e0d\\u7b26\\u5408\\u7ea6\\u5b9a\\u7684\\uff0c\\u540e\\u5c65\\u884c\\u4e00\\u65b9\\u6709\\u6743\\u62d2\\u7edd\\u5176\\u76f8\\u5e94\\u7684\\u5c65\\u884c\\u8bf7\\u6c42\\u3002\\n\\n**\\u7b2c\\u4e94\\u767e\\u4e8c\\u5341\\u4e03\\u6761** \\u5e94\\u5f53\\u5148\\u5c65\\u884c\\u503a\\u52a1\\u7684\\u5f53\\u4e8b\\u4eba\\uff0c\\u6709\\u786e\\u5207\\u8bc1\\u636e\\u8bc1\\u660e\\u5bf9\\u65b9\\u6709\\u4e0b\\u5217\\u60c5\\u5f62\\u4e4b\\u4e00\\u7684\\uff0c\\u53ef\\u4ee5\\u4e2d\\u6b62\\u5c65\\u884c\\uff1a\\n\\uff08\\u4e00\\uff09\\u7ecf\\u8425\\u72b6\\u51b5\\u4e25\\u91cd\\u6076\\u5316\\uff1b\\n\\uff08\\u4e8c\\uff09\\u8f6c\\u79fb\\u8d22\\u4ea7\\u3001\\u62bd\\u9003\\u8d44\\u91d1\\uff0c\\u4ee5\\u9003\\u907f\\u503a\\u52a1\\uff1b\\n\\uff08\\u4e09\\uff09\\u4e27\\u5931\\u5546\\u4e1a\\u4fe1\\u8a89\\uff1b\\n\\uff08\\u56db\\uff09\\u6709\\u4e27\\u5931\\u6216\\u8005\\u53ef\\u80fd\\u4e27\\u5931\\u5c65\\u884c\\u503a\\u52a1\\u80fd\\u529b\\u7684\\u5176\\u4ed6\\u60c5\\u5f62\\u3002\\n\\u5f53\\u4e8b\\u4eba\\u6ca1\\u6709\\u786e\\u5207\\u8bc1\\u636e\\u4e2d\\u6b62\\u5c65\\u884c\\u7684\\uff0c\\u5e94\\u5f53\\u627f\\u62c5\\u8fdd\\u7ea6\\u8d23\\u4efb\\u3002\\n\\n**\\u7b2c\\u4e94\\u767e\\u4e8c\\u5341\\u516b\\u6761** \\u5f53\\u4e8b\\u4eba\\u4e2d\\u6b62\\u5c65\\u884c\\u540e\\uff0c\\u5e94\\u5f53\\u53ca\\u65f6\\u901a\\u77e5\\u5bf9\\u65b9\\u3002\\u5bf9\\u65b9\\u63d0\\u4f9b\\u9002\\u5f53\\u62c5\\u4fdd\\u65f6\\uff0c\\u5e94\\u5f53\\u6062\\u590d\\u5c65\\u884c\\u3002\\u4e2d\\u6b62\\u5c65\\u884c\\u540e\\uff0c\\u5bf9\\u65b9\\u5728\\u5408\\u7406\\u671f\\u9650\\u5185\\u672a\\u6062\\u590d\\u5c65\\u884c\\u80fd\\u529b\\u5e76\\u4e14\\u672a\\u63d0\\u4f9b\\u9002\\u5f53\\u62c5\\u4fdd\\u7684\\uff0c\\u4e2d\\u6b62\\u5c65\\u884c\\u7684\\u4e00\\u65b9\\u53ef\\u4ee5\\u89e3\\u9664\\u5408\\u540c\\u3002\\n\\n**\\u7b2c\\u4e94\\u767e\\u4e8c\\u5341\\u4e5d\\u6761** \\u503a\\u6743\\u4eba\\u53ef\\u4ee5\\u62d2\\u7edd\\u503a\\u52a1\\u4eba\\u63d0\\u524d\\u5c65\\u884c\\u503a\\u52a1\\uff0c\\u4f46\\u662f\\u63d0\\u524d\\u5c65\\u884c\\u4e0d\\u635f\\u5bb3\\u503a\\u6743\\u4eba\\u5229\\u76ca\\u7684\\u9664\\u5916\\u3002\\n\\u503a\\u52a1\\u4eba\\u63d0\\u524d\\u5c65\\u884c\\u503a\\u52a1\\u7ed9\\u503a\\u6743\\u4eba\\u589e\\u52a0\\u7684\\u8d39\\u7528\\uff0c\\u7531\\u503a\\u52a1\\u4eba\\u8d1f\\u62c5\\u3002\\n\\n**\\u7b2c\\u4e94\\u767e\\u4e09\\u5341\\u6761** \\u503a\\u6743\\u4eba\\u53ef\\u4ee5\\u62d2\\u7edd\\u503a\\u52a1\\u4eba\\u90e8\\u5206\\u5c65\\u884c\\u503a\\u52a1\\uff0c\\u4f46\\u662f\\u90e8\\u5206\\u5c65\\u884c\\u4e0d\\u635f\\u5bb3\\u503a\\u6743\\u4eba\\u5229\\u76ca\\u7684\\u9664\\u5916\\u3002\\n\\u503a\\u52a1\\u4eba\\u90e8\\u5206\\u5c65\\u884c\\u503a\\u52a1\\u7ed9\\u503a\\u6743\\u4eba\\u589e\\u52a0\\u7684\\u8d39\\u7528\\uff0c\\u7531\\u503a\\u52a1\\u4eba\\u8d1f\\u62c5\\u3002\\n\\n**\\u7b2c\\u4e94\\u767e\\u4e09\\u5341\\u4e00\\u6761** \\u503a\\u52a1\\u4eba\\u5c65\\u884c\\u503a\\u52a1\\u65f6\\uff0c\\u503a\\u6743\\u4eba\\u5e94\\u5f53\\u53d7\\u9886\\u3002\\n\\u503a\\u6743\\u4eba\\u65e0\\u6b63\\u5f53\\u7406\\u7531\\u62d2\\u7edd\\u53d7\\u9886\\u7684\\uff0c\\u503a\\u52a1\\u4eba\\u53ef\\u4ee5\\u5c06\\u6807\\u7684\\u7269\\u63d0\\u5b58\\u3002\\n\\n**\\u7b2c\\u4e94\\u767e\\u4e09\\u5341\\u4e8c\\u6761** \\u63d0\\u5b58\\u671f\\u95f4\\uff0c\\u6807\\u7684\\u7269\\u6bc1\\u635f\\u3001\\u706d\\u5931\\u7684\\u98ce\\u9669\\u7531\\u503a\\u6743\\u4eba\\u627f\\u62c5\\u3002\\u63d0\\u5b58\\u8d39\\u7528\\u7531\\u503a\\u6743\\u4eba\\u8d1f\\u62c5\\u3002\\n\\n**\\u7b2c\\u4e94\\u767e\\u4e09\\u5341\\u4e09\\u6761** \\u503a\\u6743\\u4eba\\u53ef\\u4ee5\\u62d2\\u7edd\\u503a\\u52a1\\u4eba\\u63d0\\u524d\\u5c65\\u884c\\u503a\\u52a1\\uff0c\\u4f46\\u662f\\u63d0\\u524d\\u5c65\\u884c\\u4e0d\\u635f\\u5bb3\\u503a\\u6743\\u4eba\\u5229\\u76ca\\u7684\\u9664\\u5916\\u3002\\n\\u503a\\u52a1\\u4eba\\u63d0\\u524d\\u5c65\\u884c\\u503a\\u52a1\\u7ed9\\u503a\\u6743\\u4eba\\u589e\\u52a0\\u7684\\u8d39\\u7528\\uff0c\\u7531\\u503a\\u52a1\\u4eba\\u8d1f\\u62c5\\u3002\\n\\n**\\u7b2c\\u4e94\\u767e\\u4e09\\u5341\\u56db\\u6761** \\u503a\\u6743\\u4eba\\u53ef\\u4ee5\\u62d2\\u7edd\\u503a\\u52a1\\u4eba\\u90e8\\u5206\\u5c65\\u884c\\u503a\\u52a1\\uff0c\\u4f46\\u662f\\u90e8\\u5206\\u5c65\\u884c\\u4e0d\\u635f\\u5bb3\\u503a\\u6743\\u4eba\\u5229\\u76ca\\u7684\\u9664\\u5916\\u3002\\n\\u503a\\u52a1\\u4eba\\u90e8\\u5206\\u5c65\\u884c\\u503a\\u52a1\\u7ed9\\u503a\\u6743\\u4eba\\u589e\\u52a0\\u7684\\u8d39\\u7528\\uff0c\\u7531\\u503a\\u52a1\\u4eba\\u8d1f\\u62c5\\u3002\\n\\n**\\u7b2c\\u4e94\\u767e\\u4e09\\u5341\\u4e94\\u6761** \\u503a\\u6743\\u4eba\\u884c\\u4f7f\\u4ee3\\u4f4d\\u6743\\u7684\\uff0c\\u53ef\\u4ee5\\u4ee3\\u4f4d\\u884c\\u4f7f\\u503a\\u52a1\\u4eba\\u7684\\u503a\\u6743\\uff0c\\u4f46\\u8be5\\u503a\\u6743\\u4e13\\u5c5e\\u4e8e\\u503a\\u52a1\\u4eba\\u81ea\\u8eab\\u7684\\u9664\\u5916\\u3002\\n\\u4ee3\\u4f4d\\u6743\\u7684\\u884c\\u4f7f\\u8303\\u56f4\\u4ee5\\u503a\\u6743\\u4eba\\u7684\\u503a\\u6743\\u4e3a\\u9650\\u3002\\u503a\\u6743\\u4eba\\u884c\\u4f7f\\u4ee3\\u4f4d\\u6743\\u7684\\u5fc5\\u8981\\u8d39\\u7528\\uff0c\\u7531\\u503a\\u52a1\\u4eba\\u8d1f\\u62c5\\u3002\\n\\n**\\u7b2c\\u4e94\\u767e\\u4e09\\u5341\\u516d\\u6761** \\u503a\\u52a1\\u4eba\\u6020\\u4e8e\\u884c\\u4f7f\\u5176\\u5bf9\\u7b2c\\u4e09\\u4eba\\u7684\\u503a\\u6743\\u6216\\u8005\\u4e0e\\u8be5\\u503a\\u6743\\u6709\\u5173\\u7684\\u4ece\\u6743\\u5229\\uff0c\\u5f71\\u54cd\\u503a\\u6743\\u4eba\\u7684\\u5230\\u671f\\u503a\\u6743\\u5b9e\\u73b0\\u7684\\uff0c\\u503a\\u6743\\u4eba\\u53ef\\u4ee5\\u5411\\u4eba\\u6c11\\u6cd5\\u9662\\u8bf7\\u6c42\\u4ee5\\u81ea\\u5df1\\u7684\\u540d\\u4e49\\u4ee3\\u4f4d\\u884c\\u4f7f\\u503a\\u52a1\\u4eba\\u7684\\u503a\\u6743\\u3002\\n\\n**\\u7b2c\\u4e94\\u767e\\u4e09\\u5341\\u4e03\\u6761** \\u503a\\u6743\\u4eba\\u884c\\u4f7f\\u64a4\\u9500\\u6743\\u7684\\uff0c\\u53ef\\u4ee5\\u8bf7\\u6c42\\u4eba\\u6c11\\u6cd5\\u9662\\u64a4\\u9500\\u503a\\u52a1\\u4eba\\u4ee5\\u660e\\u663e\\u4e0d\\u5408\\u7406\\u7684\\u4f4e\\u4ef7\\u8f6c\\u8ba9\\u8d22\\u4ea7\\uff0c\\u6216\\u8005\\u4ee5\\u660e\\u663e\\u4e0d\\u5408\\u7406\\u7684\\u9ad8\\u4ef7\\u53d7\\u8ba9\\u4ed6\\u4eba\\u8d22\\u4ea7\\u7684\\u884c\\u4e3a\\u3002\\n\\u64a4\\u9500\\u6743\\u7684\\u884c\\u4f7f\\u8303\\u56f4\\u4ee5\\u503a\\u6743\\u4eba\\u7684\\u503a\\u6743\\u4e3a\\u9650\\u3002\\n\\n**\\u7b2c\\u4e94\\u767e\\u4e09\\u5341\\u516b\\u6761** \\u503a\\u52a1\\u4eba\\u65e0\\u507f\\u8f6c\\u8ba9\\u8d22\\u4ea7\\uff0c\\u5bf9\\u503a\\u6743\\u4eba\\u9020\\u6210\\u635f\\u5bb3\\u7684\\uff0c\\u503a\\u6743\\u4eba\\u53ef\\u4ee5\\u8bf7\\u6c42\\u4eba\\u6c11\\u6cd5\\u9662\\u64a4\\u9500\\u503a\\u52a1\\u4eba\\u7684\\u884c\\u4e3a\\u3002\\n\\n**\\u7b2c\\u4e94\\u767e\\u4e09\\u5341\\u4e5d\\u6761** \\u503a\\u52a1\\u4eba\\u4ee5\\u660e\\u663e\\u4e0d\\u5408\\u7406\\u7684\\u4f4e\\u4ef7\\u8f6c\\u8ba9\\u8d22\\u4ea7\\u3001\\u4ee5\\u660e\\u663e\\u4e0d\\u5408\\u7406\\u7684\\u9ad8\\u4ef7\\u53d7\\u8ba9\\u4ed6\\u4eba\\u8d22\\u4ea7\\uff0c\\u6216\\u8005\\u4e3a\\u4ed6\\u4eba\\u7684\\u503a\\u52a1\\u63d0\\u4f9b\\u62c5\\u4fdd\\uff0c\\u5bf9\\u503a\\u6743\\u4eba\\u9020\\u6210\\u635f\\u5bb3\\uff0c\\u5e76\\u4e14\\u53d7\\u8ba9\\u4eba\\u77e5\\u9053\\u8be5\\u60c5\\u5f62\\u7684\\uff0c\\u503a\\u6743\\u4eba\\u53ef\\u4ee5\\u8bf7\\u6c42\\u4eba\\u6c11\\u6cd5\\u9662\\u64a4\\u9500\\u503a\\u52a1\\u4eba\\u7684\\u884c\\u4e3a\\u3002\\n\\n**\\u7b2c\\u4e94\\u767e\\u56db\\u5341\\u6761** \\u64a4\\u9500\\u6743\\u7684\\u884c\\u4f7f\\u8303\\u56f4\\u4ee5\\u503a\\u6743\\u4eba\\u7684\\u503a\\u6743\\u4e3a\\u9650\\u3002\\n\\u503a\\u6743\\u4eba\\u884c\\u4f7f\\u64a4\\u9500\\u6743\\u7684\\u5fc5\\u8981\\u8d39\\u7528\\uff0c\\u7531\\u503a\\u52a1\\u4eba\\u8d1f\\u62c5\\u3002\\n\\n**\\u7b2c\\u4e94\\u767e\\u56db\\u5341\\u4e00\\u6761** \\u64a4\\u9500\\u6743\\u81ea\\u503a\\u6743\\u4eba\\u77e5\\u9053\\u6216\\u8005\\u5e94\\u5f53\\u77e5\\u9053\\u64a4\\u9500\\u4e8b\\u7531\\u4e4b\\u65e5\\u8d77\\u4e00\\u5e74\\u5185\\u884c\\u4f7f\\u3002\\u81ea\\u503a\\u52a1\\u4eba\\u7684\\u884c\\u4e3a\\u53d1\\u751f\\u4e4b\\u65e5\\u8d77\\u4e94\\u5e74\\u5185\\u6ca1\\u6709\\u884c\\u4f7f\\u64a4\\u9500\\u6743\\u7684\\uff0c\\u8be5\\u64a4\\u9500\\u6743\\u6d88\\u706d\\u3002\\n\\n**\\u7b2c\\u4e94\\u767e\\u56db\\u5341\\u4e8c\\u6761** \\u5f53\\u4e8b\\u4eba\\u4e92\\u8d1f\\u503a\\u52a1\\uff0c\\u6807\\u7684\\u7269\\u79cd\\u7c7b\\u3001\\u54c1\\u8d28\\u76f8\\u540c\\u7684\\uff0c\\u4efb\\u4f55\\u4e00\\u65b9\\u53ef\\u4ee5\\u5c06\\u81ea\\u5df1\\u7684\\u503a\\u52a1\\u4e0e\\u5bf9\\u65b9\\u7684\\u503a\\u52a1\\u62b5\\u9500\\uff0c\\u4f46\\u662f\\u4f9d\\u7167\\u6cd5\\u5f8b\\u89c4\\u5b9a\\u6216\\u8005\\u5f53\\u4e8b\\u4eba\\u7ea6\\u5b9a\\u4e0d\\u5f97\\u62b5\\u9500\\u7684\\u9664\\u5916\\u3002\\n\\u5f53\\u4e8b\\u4eba\\u4e3b\\u5f20\\u62b5\\u9500\\u7684\\uff0c\\u5e94\\u5f53\\u901a\\u77e5\\u5bf9\\u65b9\\u3002\\u901a\\u77e5\\u81ea\\u5230\\u8fbe\\u5bf9\\u65b9\\u65f6\\u751f\\u6548\\u3002\\u62b5\\u9500\\u4e0d\\u5f97\\u9644\\u6761\\u4ef6\\u6216\\u8005\\u9644\\u671f\\u9650\\u3002\\n\\n**\\u7b2c\\u4e94\\u767e\\u56db\\u5341\\u4e09\\u6761** \\u5f53\\u4e8b\\u4eba\\u4e92\\u8d1f\\u503a\\u52a1\\uff0c\\u6807\\u7684\\u7269\\u79cd\\u7c7b\\u3001\\u54c1\\u8d28\\u76f8\\u540c\\u7684\\uff0c\\u4efb\\u4f55\\u4e00\\u65b9\\u53ef\\u4ee5\\u5c06\\u81ea\\u5df1\\u7684\\u503a\\u52a1\\u4e0e\\u5bf9\\u65b9\\u7684\\u503a\\u52a1\\u62b5\\u9500\\uff0c\\u4f46\\u662f\\u4f9d\\u7167\\u6cd5\\u5f8b\\u89c4\\u5b9a\\u6216\\u8005\\u5f53\\u4e8b\\u4eba\\u7ea6\\u5b9a\\u4e0d\\u5f97\\u62b5\\u9500\\u7684\\u9664\\u5916\\u3002\\n\\u5f53\\u4e8b\\u4eba\\u4e3b\\u5f20\\u62b5\\u9500\\u7684\\uff0c\\u5e94\\u5f53\\u901a\\u77e5\\u5bf9\\u65b9\\u3002\\u901a\\u77e5\\u81ea\\u5230\\u8fbe\\u5bf9\\u65b9\\u65f6\\u751f\\u6548\\u3002\\u62b5\\u9500\\u4e0d\\u5f97\\u9644\\u6761\\u4ef6\\u6216\\u8005\\u9644\\u671f\\u9650\\u3002\\n\\n**\\u7b2c\\u4e94\\u767e\\u56db\\u5341\\u56db\\u6761** \\u5f53\\u4e8b\\u4eba\\u4e92\\u8d1f\\u503a\\u52a1\\uff0c\\u6807\\u7684\\u7269\\u79cd\\u7c7b\\u3001\\u54c1\\u8d28\\u76f8\\u540c\\u7684\\uff0c\\u4efb\\u4f55\\u4e00\\u65b9\\u53ef\\u4ee5\\u5c06\\u81ea\\u5df1\\u7684\\u503a\\u52a1\\u4e0e\\u5bf9\\u65b9\\u7684\\u503a\\u52a1\\u62b5\\u9500\\uff0c\\u4f46\\u662f\\u4f9d\\u7167\\u6cd5\\u5f8b\\u89c4\\u5b9a\\u6216\\u8005\\u5f53\\u4e8b\\u4eba\\u7ea6\\u5b9a\\u4e0d\\u5f97\\u62b5\\u9500\\u7684\\u9664\\u5916\\u3002\\n\\u5f53\\u4e8b\\u4eba\\u4e3b\\u5f20\\u62b5\\u9500\\u7684\\uff0c\\u5e94\\u5f53\\u901a\\u77e5\\u5bf9\\u65b9\\u3002\\u901a\\u77e5\\u81ea\\u5230\\u8fbe\\u5bf9\\u65b9\\u65f6\\u751f\\u6548\\u3002\\u62b5\\u9500\\u4e0d\\u5f97\\u9644\\u6761\\u4ef6\\u6216\\u8005\\u9644\\u671f\\u9650\\u3002\\n\\n**\\u7b2c\\u4e94\\u767e\\u56db\\u5341\\u4e94\\u6761** \\u5f53\\u4e8b\\u4eba\\u4e92\\u8d1f\\u503a\\u52a1\\uff0c\\u6807\\u7684\\u7269\\u79cd\\u7c7b\\u3001\\u54c1\\u8d28\\u76f8\\u540c\\u7684\\uff0c\\u4efb\\u4f55\\u4e00\\u65b9\\u53ef\\u4ee5\\u5c06\\u81ea\\u5df1\\u7684\\u503a\\u52a1\\u4e0e\\u5bf9\\u65b9\\u7684\\u503a\\u52a1\\u62b5\\u9500\\uff0c\\u4f46\\u662f\\u4f9d\\u7167\\u6cd5\\u5f8b\\u89c4\\u5b9a\\u6216\\u8005\\u5f53\\u4e8b\\u4eba\\u7ea6\\u5b9a\\u4e0d\\u5f97\\u62b5\\u9500\\u7684\\u9664\\u5916\\u3002\\n\\u5f53\\u4e8b\\u4eba\\u4e3b\\u5f20\\u62b5\\u9500\\u7684\\uff0c\\u5e94\\u5f53\\u901a\\u77e5\\u5bf9\\u65b9\\u3002\\u901a\\u77e5\\u81ea\\u5230\\u8fbe\\u5bf9\\u65b9\\u65f6\\u751f\\u6548\\u3002\\u62b5\\u9500\\u4e0d\\u5f97\\u9644\\u6761\\u4ef6\\u6216\\u8005\\u9644\\u671f\\u9650\\u3002\\n\\n**\\u7b2c\\u4e94\\u767e\\u56db\\u5341\\u516d\\u6761** \\u5f53\\u4e8b\\u4eba\\u4e92\\u8d1f\\u503a\\u52a1\\uff0c\\u6807\\u7684\\u7269\\u79cd\\u7c7b\\u3001\\u54c1\\u8d28\\u76f8\\u540c\\u7684\\uff0c\\u4efb\\u4f55\\u4e00\\u65b9\\u53ef\\u4ee5\\u5c06\\u81ea\\u5df1\\u7684\\u503a\\u52a1\\u4e0e\\u5bf9\\u65b9\\u7684\\u503a\\u52a1\\u62b5\\u9500\\uff0c\\u4f46\\u662f\\u4f9d\\u7167\\u6cd5\\u5f8b\\u89c4\\u5b9a\\u6216\\u8005\\u5f53\\u4e8b\\u4eba\\u7ea6\\u5b9a\\u4e0d\\u5f97\\u62b5\\u9500\\u7684\\u9664\\u5916\\u3002\\n\\u5f53\\u4e8b\\u4eba\\u4e3b\\u5f20\\u62b5\\u9500\\u7684\\uff0c\\u5e94\\u5f53\\u901a\\u77e5\\u5bf9\\u65b9\\u3002\\u901a\\u77e5\\u81ea\\u5230\\u8fbe\\u5bf9\\u65b9\\u65f6\\u751f\\u6548\\u3002\\u62b5\\u9500\\u4e0d\\u5f97\\u9644\\u6761\\u4ef6\\u6216\\u8005\\u9644\\u671f\\u9650\\u3002\\n\\n**\\u7b2c\\u4e94\\u767e\\u56db\\u5341\\u4e03\\u6761** \\u503a\\u52a1\\u4eba\\u53ef\\u4ee5\\u5c06\\u6807\\u7684\\u7269\\u63d0\\u5b58\\u3002\\n\\u63d0\\u5b58\\u671f\\u95f4\\uff0c\\u6807\\u7684\\u7269\\u6bc1\\u635f\\u3001\\u706d\\u5931\\u7684\\u98ce\\u9669\\u7531\\u503a\\u6743\\u4eba\\u627f\\u62c5\\u3002\\u63d0\\u5b58\\u8d39\\u7528\\u7531\\u503a\\u6743\\u4eba\\u8d1f\\u62c5\\u3002\\n\\n\",\n",
      "        0.6784591674804688\n",
      "    ],\n",
      "    [\n",
      "        \"\\u7b2c\\u4e09\\u7ae0 \\u5408\\u540c\\u7684\\u53d8\\u66f4\\u548c\\u8f6c\\u8ba9\\n\\n**\\u7b2c\\u4e94\\u767e\\u56db\\u5341\\u516b\\u6761** \\u5f53\\u4e8b\\u4eba\\u534f\\u5546\\u4e00\\u81f4\\uff0c\\u53ef\\u4ee5\\u53d8\\u66f4\\u5408\\u540c\\u3002\\n\\n**\\u7b2c\\u4e94\\u767e\\u56db\\u5341\\u4e5d\\u6761** \\u5f53\\u4e8b\\u4eba\\u5bf9\\u5408\\u540c\\u53d8\\u66f4\\u7684\\u5185\\u5bb9\\u7ea6\\u5b9a\\u4e0d\\u660e\\u786e\\u7684\\uff0c\\u63a8\\u5b9a\\u4e3a\\u672a\\u53d8\\u66f4\\u3002\\n\\n**\\u7b2c\\u4e94\\u767e\\u4e94\\u5341\\u6761** \\u503a\\u6743\\u4eba\\u53ef\\u4ee5\\u5c06\\u5408\\u540c\\u7684\\u6743\\u5229\\u5168\\u90e8\\u6216\\u8005\\u90e8\\u5206\\u8f6c\\u8ba9\\u7ed9\\u7b2c\\u4e09\\u4eba\\uff0c\\u4f46\\u662f\\u6709\\u4e0b\\u5217\\u60c5\\u5f62\\u4e4b\\u4e00\\u7684\\u9664\\u5916\\uff1a\\n\\uff08\\u4e00\\uff09\\u6839\\u636e\\u5408\\u540c\\u6027\\u8d28\\u4e0d\\u5f97\\u8f6c\\u8ba9\\uff1b\\n\\uff08\\u4e8c\\uff09\\u6309\\u7167\\u5f53\\u4e8b\\u4eba\\u7ea6\\u5b9a\\u4e0d\\u5f97\\u8f6c\\u8ba9\\uff1b\\n\\uff08\\u4e09\\uff09\\u4f9d\\u7167\\u6cd5\\u5f8b\\u89c4\\u5b9a\\u4e0d\\u5f97\\u8f6c\\u8ba9\\u3002\\n\\u503a\\u6743\\u4eba\\u8f6c\\u8ba9\\u6743\\u5229\\u7684\\uff0c\\u5e94\\u5f53\\u901a\\u77e5\\u503a\\u52a1\\u4eba\\u3002\\u672a\\u7ecf\\u901a\\u77e5\\uff0c\\u8be5\\u8f6c\\u8ba9\\u5bf9\\u503a\\u52a1\\u4eba\\u4e0d\\u53d1\\u751f\\u6548\\u529b\\u3002\\n\\n**\\u7b2c\\u4e94\\u767e\\u4e94\\u5341\\u4e00\\u6761** \\u503a\\u6743\\u4eba\\u8f6c\\u8ba9\\u6743\\u5229\\u7684\\uff0c\\u53d7\\u8ba9\\u4eba\\u53d6\\u5f97\\u4e0e\\u503a\\u6743\\u6709\\u5173\\u7684\\u4ece\\u6743\\u5229\\uff0c\\u4f46\\u662f\\u8be5\\u4ece\\u6743\\u5229\\u4e13\\u5c5e\\u4e8e\\u503a\\u6743\\u4eba\\u81ea\\u8eab\\u7684\\u9664\\u5916\\u3002\\n\\n**\\u7b2c\\u4e94\\u767e\\u4e94\\u5341\\u4e8c\\u6761** \\u503a\\u52a1\\u4eba\\u5c06\\u5408\\u540c\\u7684\\u4e49\\u52a1\\u5168\\u90e8\\u6216\\u8005\\u90e8\\u5206\\u8f6c\\u8ba9\\u7ed9\\u7b2c\\u4e09\\u4eba\\u7684\\uff0c\\u5e94\\u5f53\\u7ecf\\u503a\\u6743\\u4eba\\u540c\\u610f\\u3002\\n\\n**\\u7b2c\\u4e94\\u767e\\u4e94\\u5341\\u4e09\\u6761** \\u503a\\u52a1\\u4eba\\u8f6c\\u8ba9\\u4e49\\u52a1\\u7684\\uff0c\\u65b0\\u503a\\u52a1\\u4eba\\u53ef\\u4ee5\\u4e3b\\u5f20\\u539f\\u503a\\u52a1\\u4eba\\u5bf9\\u503a\\u6743\\u4eba\\u7684\\u6297\\u8fa9\\u3002\\n\\u65b0\\u503a\\u52a1\\u4eba\\u627f\\u62c5\\u503a\\u52a1\\u7684\\uff0c\\u5e94\\u5f53\\u627f\\u62c5\\u4e0e\\u4e3b\\u503a\\u52a1\\u6709\\u5173\\u7684\\u4ece\\u503a\\u52a1\\uff0c\\u4f46\\u662f\\u8be5\\u4ece\\u503a\\u52a1\\u4e13\\u5c5e\\u4e8e\\u539f\\u503a\\u52a1\\u4eba\\u81ea\\u8eab\\u7684\\u9664\\u5916\\u3002\\n\\n**\\u7b2c\\u4e94\\u767e\\u4e94\\u5341\\u56db\\u6761** \\u5f53\\u4e8b\\u4eba\\u4e00\\u65b9\\u7ecf\\u5bf9\\u65b9\\u540c\\u610f\\uff0c\\u53ef\\u4ee5\\u5c06\\u81ea\\u5df1\\u5728\\u5408\\u540c\\u4e2d\\u7684\\u6743\\u5229\\u548c\\u4e49\\u52a1\\u4e00\\u5e76\\u8f6c\\u8ba9\\u7ed9\\u7b2c\\u4e09\\u4eba\\u3002\\n\\n**\\u7b2c\\u4e94\\u767e\\u4e94\\u5341\\u4e94\\u6761** \\u6743\\u5229\\u548c\\u4e49\\u52a1\\u4e00\\u5e76\\u8f6c\\u8ba9\\u7684\\uff0c\\u9002\\u7528\\u503a\\u6743\\u8f6c\\u8ba9\\u3001\\u503a\\u52a1\\u8f6c\\u8ba9\\u7684\\u6709\\u5173\\u89c4\\u5b9a\\u3002\\n\\n**\\u7b2c\\u4e94\\u767e\\u4e94\\u5341\\u516d\\u6761** \\u5408\\u540c\\u53d8\\u66f4\\u7684\\uff0c\\u4e0d\\u5f71\\u54cd\\u5f53\\u4e8b\\u4eba\\u8bf7\\u6c42\\u635f\\u5bb3\\u8d54\\u507f\\u7684\\u6743\\u5229\\u3002\\n\\n\",\n",
      "        0.6614800691604614\n",
      "    ]\n",
      "]\n"
     ]
    }
   ],
   "execution_count": 13
  },
  {
   "cell_type": "code",
   "id": "78b4fbaef79b7d61",
   "metadata": {
    "ExecuteTime": {
     "end_time": "2025-08-16T10:22:57.892798Z",
     "start_time": "2025-08-16T10:22:57.886497Z"
    }
   },
   "source": [
    "context = \"\\n\".join(\n",
    "    [line_with_distance[0] for line_with_distance in retrieved_lines_with_distances]\n",
    ")\n",
    "context"
   ],
   "outputs": [
    {
     "data": {
      "text/plain": [
       "'第四章 合同的权利义务终止\\n\\n**第五百五十七条** 有下列情形之一的，合同的权利义务终止：\\n（一）债务已经履行；\\n（二）合同解除；\\n（三）债务相互抵销；\\n（四）债务人依法将标的物提存；\\n（五）债权人免除债务；\\n（六）债权债务同归一人；\\n（七）法律规定或者当事人约定终止的其他情形。\\n\\n**第五百五十八条** 合同终止后，当事人应当遵循诚信原则，根据交易习惯履行通知、协助、保密等义务。\\n\\n**第五百五十九条** 合同的权利义务终止后，当事人应当履行清理义务。\\n\\n**第五百六十条** 当事人一方依照法律规定或者合同约定解除合同的，合同的权利义务终止。\\n\\n**第五百六十一条** 当事人一方不履行合同义务或者履行合同义务不符合约定的，对方有权请求其承担违约责任。\\n\\n**第五百六十二条** 有下列情形之一的，当事人可以解除合同：\\n（一）因不可抗力致使不能实现合同目的；\\n（二）在履行期限届满前，一方明确表示或者以自己的行为表明不履行主要债务；\\n（三）一方迟延履行主要债务，经催告后在合理期限内仍未履行；\\n（四）一方迟延履行债务或者有其他违约行为致使不能实现合同目的；\\n（五）法律规定的其他情形。\\n\\n**第五百六十三条** 当事人可以约定一方解除合同的事由。解除合同的事由发生时，解除权人可以解除合同。\\n\\n**第五百六十四条** 法律规定或者当事人约定解除权行使期限，期限届满当事人不行使的，该权利消灭。\\n法律没有规定或者当事人没有约定解除权行使期限，经对方催告后在合理期限内不行使的，该权利消灭。\\n\\n**第五百六十五条** 当事人一方解除合同的，应当通知对方。合同自通知到达对方时解除；通知载明债务人在一定期限内不履行债务则合同自动解除，债务人在该期限内未履行债务的，合同自期限届满时解除。\\n对方有异议的，可以请求人民法院或者仲裁机构确认解除行为的效力。\\n\\n**第五百六十六条** 合同解除后，尚未履行的，终止履行；已经履行的，根据履行情况和合同性质，当事人可以请求恢复原状或者采取其他补救措施，并有权请求赔偿损失。\\n合同因违约解除的，解除权人可以请求违约方承担违约责任。\\n\\n**第五百六十七条** 合同的权利义务终止后，当事人应当履行清理义务。\\n合同终止后，当事人可以约定合同终止后的权利义务。\\n法律、行政法规对合同终止后的权利义务有特别规定的，依照其规定。\\n\\n**第五百六十八条** 债权人免除债务人部分或者全部债务的，合同的权利义务部分或者全部终止。\\n\\n**第五百六十九条** 债权和债务同归一人，合同的权利义务终止，但是不损害第三人利益的除外。\\n\\n**第五百七十条** 合同解除的，不影响当事人请求赔偿损失的权利。\\n\\n\\n第二章 合同的履行\\n\\n**第五百二十三条** 当事人应当按照约定全面履行自己的义务。\\n\\n**第五百二十四条** 当事人应当遵循诚信原则，根据合同的性质、目的和交易习惯履行通知、协助、保密等义务。\\n\\n**第五百二十五条** 当事人互负债务，没有先后履行顺序的，应当同时履行。一方在对方履行之前有权拒绝其履行请求。一方在对方履行债务不符合约定时，有权拒绝其相应的履行请求。\\n\\n**第五百二十六条** 当事人互负债务，有先后履行顺序，先履行一方未履行的，后履行一方有权拒绝其履行请求。先履行一方履行债务不符合约定的，后履行一方有权拒绝其相应的履行请求。\\n\\n**第五百二十七条** 应当先履行债务的当事人，有确切证据证明对方有下列情形之一的，可以中止履行：\\n（一）经营状况严重恶化；\\n（二）转移财产、抽逃资金，以逃避债务；\\n（三）丧失商业信誉；\\n（四）有丧失或者可能丧失履行债务能力的其他情形。\\n当事人没有确切证据中止履行的，应当承担违约责任。\\n\\n**第五百二十八条** 当事人中止履行后，应当及时通知对方。对方提供适当担保时，应当恢复履行。中止履行后，对方在合理期限内未恢复履行能力并且未提供适当担保的，中止履行的一方可以解除合同。\\n\\n**第五百二十九条** 债权人可以拒绝债务人提前履行债务，但是提前履行不损害债权人利益的除外。\\n债务人提前履行债务给债权人增加的费用，由债务人负担。\\n\\n**第五百三十条** 债权人可以拒绝债务人部分履行债务，但是部分履行不损害债权人利益的除外。\\n债务人部分履行债务给债权人增加的费用，由债务人负担。\\n\\n**第五百三十一条** 债务人履行债务时，债权人应当受领。\\n债权人无正当理由拒绝受领的，债务人可以将标的物提存。\\n\\n**第五百三十二条** 提存期间，标的物毁损、灭失的风险由债权人承担。提存费用由债权人负担。\\n\\n**第五百三十三条** 债权人可以拒绝债务人提前履行债务，但是提前履行不损害债权人利益的除外。\\n债务人提前履行债务给债权人增加的费用，由债务人负担。\\n\\n**第五百三十四条** 债权人可以拒绝债务人部分履行债务，但是部分履行不损害债权人利益的除外。\\n债务人部分履行债务给债权人增加的费用，由债务人负担。\\n\\n**第五百三十五条** 债权人行使代位权的，可以代位行使债务人的债权，但该债权专属于债务人自身的除外。\\n代位权的行使范围以债权人的债权为限。债权人行使代位权的必要费用，由债务人负担。\\n\\n**第五百三十六条** 债务人怠于行使其对第三人的债权或者与该债权有关的从权利，影响债权人的到期债权实现的，债权人可以向人民法院请求以自己的名义代位行使债务人的债权。\\n\\n**第五百三十七条** 债权人行使撤销权的，可以请求人民法院撤销债务人以明显不合理的低价转让财产，或者以明显不合理的高价受让他人财产的行为。\\n撤销权的行使范围以债权人的债权为限。\\n\\n**第五百三十八条** 债务人无偿转让财产，对债权人造成损害的，债权人可以请求人民法院撤销债务人的行为。\\n\\n**第五百三十九条** 债务人以明显不合理的低价转让财产、以明显不合理的高价受让他人财产，或者为他人的债务提供担保，对债权人造成损害，并且受让人知道该情形的，债权人可以请求人民法院撤销债务人的行为。\\n\\n**第五百四十条** 撤销权的行使范围以债权人的债权为限。\\n债权人行使撤销权的必要费用，由债务人负担。\\n\\n**第五百四十一条** 撤销权自债权人知道或者应当知道撤销事由之日起一年内行使。自债务人的行为发生之日起五年内没有行使撤销权的，该撤销权消灭。\\n\\n**第五百四十二条** 当事人互负债务，标的物种类、品质相同的，任何一方可以将自己的债务与对方的债务抵销，但是依照法律规定或者当事人约定不得抵销的除外。\\n当事人主张抵销的，应当通知对方。通知自到达对方时生效。抵销不得附条件或者附期限。\\n\\n**第五百四十三条** 当事人互负债务，标的物种类、品质相同的，任何一方可以将自己的债务与对方的债务抵销，但是依照法律规定或者当事人约定不得抵销的除外。\\n当事人主张抵销的，应当通知对方。通知自到达对方时生效。抵销不得附条件或者附期限。\\n\\n**第五百四十四条** 当事人互负债务，标的物种类、品质相同的，任何一方可以将自己的债务与对方的债务抵销，但是依照法律规定或者当事人约定不得抵销的除外。\\n当事人主张抵销的，应当通知对方。通知自到达对方时生效。抵销不得附条件或者附期限。\\n\\n**第五百四十五条** 当事人互负债务，标的物种类、品质相同的，任何一方可以将自己的债务与对方的债务抵销，但是依照法律规定或者当事人约定不得抵销的除外。\\n当事人主张抵销的，应当通知对方。通知自到达对方时生效。抵销不得附条件或者附期限。\\n\\n**第五百四十六条** 当事人互负债务，标的物种类、品质相同的，任何一方可以将自己的债务与对方的债务抵销，但是依照法律规定或者当事人约定不得抵销的除外。\\n当事人主张抵销的，应当通知对方。通知自到达对方时生效。抵销不得附条件或者附期限。\\n\\n**第五百四十七条** 债务人可以将标的物提存。\\n提存期间，标的物毁损、灭失的风险由债权人承担。提存费用由债权人负担。\\n\\n\\n第三章 合同的变更和转让\\n\\n**第五百四十八条** 当事人协商一致，可以变更合同。\\n\\n**第五百四十九条** 当事人对合同变更的内容约定不明确的，推定为未变更。\\n\\n**第五百五十条** 债权人可以将合同的权利全部或者部分转让给第三人，但是有下列情形之一的除外：\\n（一）根据合同性质不得转让；\\n（二）按照当事人约定不得转让；\\n（三）依照法律规定不得转让。\\n债权人转让权利的，应当通知债务人。未经通知，该转让对债务人不发生效力。\\n\\n**第五百五十一条** 债权人转让权利的，受让人取得与债权有关的从权利，但是该从权利专属于债权人自身的除外。\\n\\n**第五百五十二条** 债务人将合同的义务全部或者部分转让给第三人的，应当经债权人同意。\\n\\n**第五百五十三条** 债务人转让义务的，新债务人可以主张原债务人对债权人的抗辩。\\n新债务人承担债务的，应当承担与主债务有关的从债务，但是该从债务专属于原债务人自身的除外。\\n\\n**第五百五十四条** 当事人一方经对方同意，可以将自己在合同中的权利和义务一并转让给第三人。\\n\\n**第五百五十五条** 权利和义务一并转让的，适用债权转让、债务转让的有关规定。\\n\\n**第五百五十六条** 合同变更的，不影响当事人请求损害赔偿的权利。\\n\\n'"
      ]
     },
     "execution_count": 14,
     "metadata": {},
     "output_type": "execute_result"
    }
   ],
   "execution_count": 14
  },
  {
   "cell_type": "code",
   "id": "fc5adaf0a99695fa",
   "metadata": {
    "ExecuteTime": {
     "end_time": "2025-08-16T10:23:02.804241Z",
     "start_time": "2025-08-16T10:23:02.797570Z"
    }
   },
   "source": [
    "SYSTEM_PROMPT = \"\"\"\n",
    "Human: 你是一个 AI 助手。你能够从提供的上下文段落片段中找到问题的答案。\n",
    "\"\"\"\n",
    "USER_PROMPT = f\"\"\"\n",
    "请使用以下用 <context> 标签括起来的信息片段来回答用 <question> 标签括起来的问题。\n",
    "<context>\n",
    "{context}\n",
    "</context>\n",
    "<question>\n",
    "{question}\n",
    "</question>\n",
    "\"\"\"\n",
    "USER_PROMPT"
   ],
   "outputs": [
    {
     "data": {
      "text/plain": [
       "'\\n请使用以下用 <context> 标签括起来的信息片段来回答用 <question> 标签括起来的问题。\\n<context>\\n第四章 合同的权利义务终止\\n\\n**第五百五十七条** 有下列情形之一的，合同的权利义务终止：\\n（一）债务已经履行；\\n（二）合同解除；\\n（三）债务相互抵销；\\n（四）债务人依法将标的物提存；\\n（五）债权人免除债务；\\n（六）债权债务同归一人；\\n（七）法律规定或者当事人约定终止的其他情形。\\n\\n**第五百五十八条** 合同终止后，当事人应当遵循诚信原则，根据交易习惯履行通知、协助、保密等义务。\\n\\n**第五百五十九条** 合同的权利义务终止后，当事人应当履行清理义务。\\n\\n**第五百六十条** 当事人一方依照法律规定或者合同约定解除合同的，合同的权利义务终止。\\n\\n**第五百六十一条** 当事人一方不履行合同义务或者履行合同义务不符合约定的，对方有权请求其承担违约责任。\\n\\n**第五百六十二条** 有下列情形之一的，当事人可以解除合同：\\n（一）因不可抗力致使不能实现合同目的；\\n（二）在履行期限届满前，一方明确表示或者以自己的行为表明不履行主要债务；\\n（三）一方迟延履行主要债务，经催告后在合理期限内仍未履行；\\n（四）一方迟延履行债务或者有其他违约行为致使不能实现合同目的；\\n（五）法律规定的其他情形。\\n\\n**第五百六十三条** 当事人可以约定一方解除合同的事由。解除合同的事由发生时，解除权人可以解除合同。\\n\\n**第五百六十四条** 法律规定或者当事人约定解除权行使期限，期限届满当事人不行使的，该权利消灭。\\n法律没有规定或者当事人没有约定解除权行使期限，经对方催告后在合理期限内不行使的，该权利消灭。\\n\\n**第五百六十五条** 当事人一方解除合同的，应当通知对方。合同自通知到达对方时解除；通知载明债务人在一定期限内不履行债务则合同自动解除，债务人在该期限内未履行债务的，合同自期限届满时解除。\\n对方有异议的，可以请求人民法院或者仲裁机构确认解除行为的效力。\\n\\n**第五百六十六条** 合同解除后，尚未履行的，终止履行；已经履行的，根据履行情况和合同性质，当事人可以请求恢复原状或者采取其他补救措施，并有权请求赔偿损失。\\n合同因违约解除的，解除权人可以请求违约方承担违约责任。\\n\\n**第五百六十七条** 合同的权利义务终止后，当事人应当履行清理义务。\\n合同终止后，当事人可以约定合同终止后的权利义务。\\n法律、行政法规对合同终止后的权利义务有特别规定的，依照其规定。\\n\\n**第五百六十八条** 债权人免除债务人部分或者全部债务的，合同的权利义务部分或者全部终止。\\n\\n**第五百六十九条** 债权和债务同归一人，合同的权利义务终止，但是不损害第三人利益的除外。\\n\\n**第五百七十条** 合同解除的，不影响当事人请求赔偿损失的权利。\\n\\n\\n第二章 合同的履行\\n\\n**第五百二十三条** 当事人应当按照约定全面履行自己的义务。\\n\\n**第五百二十四条** 当事人应当遵循诚信原则，根据合同的性质、目的和交易习惯履行通知、协助、保密等义务。\\n\\n**第五百二十五条** 当事人互负债务，没有先后履行顺序的，应当同时履行。一方在对方履行之前有权拒绝其履行请求。一方在对方履行债务不符合约定时，有权拒绝其相应的履行请求。\\n\\n**第五百二十六条** 当事人互负债务，有先后履行顺序，先履行一方未履行的，后履行一方有权拒绝其履行请求。先履行一方履行债务不符合约定的，后履行一方有权拒绝其相应的履行请求。\\n\\n**第五百二十七条** 应当先履行债务的当事人，有确切证据证明对方有下列情形之一的，可以中止履行：\\n（一）经营状况严重恶化；\\n（二）转移财产、抽逃资金，以逃避债务；\\n（三）丧失商业信誉；\\n（四）有丧失或者可能丧失履行债务能力的其他情形。\\n当事人没有确切证据中止履行的，应当承担违约责任。\\n\\n**第五百二十八条** 当事人中止履行后，应当及时通知对方。对方提供适当担保时，应当恢复履行。中止履行后，对方在合理期限内未恢复履行能力并且未提供适当担保的，中止履行的一方可以解除合同。\\n\\n**第五百二十九条** 债权人可以拒绝债务人提前履行债务，但是提前履行不损害债权人利益的除外。\\n债务人提前履行债务给债权人增加的费用，由债务人负担。\\n\\n**第五百三十条** 债权人可以拒绝债务人部分履行债务，但是部分履行不损害债权人利益的除外。\\n债务人部分履行债务给债权人增加的费用，由债务人负担。\\n\\n**第五百三十一条** 债务人履行债务时，债权人应当受领。\\n债权人无正当理由拒绝受领的，债务人可以将标的物提存。\\n\\n**第五百三十二条** 提存期间，标的物毁损、灭失的风险由债权人承担。提存费用由债权人负担。\\n\\n**第五百三十三条** 债权人可以拒绝债务人提前履行债务，但是提前履行不损害债权人利益的除外。\\n债务人提前履行债务给债权人增加的费用，由债务人负担。\\n\\n**第五百三十四条** 债权人可以拒绝债务人部分履行债务，但是部分履行不损害债权人利益的除外。\\n债务人部分履行债务给债权人增加的费用，由债务人负担。\\n\\n**第五百三十五条** 债权人行使代位权的，可以代位行使债务人的债权，但该债权专属于债务人自身的除外。\\n代位权的行使范围以债权人的债权为限。债权人行使代位权的必要费用，由债务人负担。\\n\\n**第五百三十六条** 债务人怠于行使其对第三人的债权或者与该债权有关的从权利，影响债权人的到期债权实现的，债权人可以向人民法院请求以自己的名义代位行使债务人的债权。\\n\\n**第五百三十七条** 债权人行使撤销权的，可以请求人民法院撤销债务人以明显不合理的低价转让财产，或者以明显不合理的高价受让他人财产的行为。\\n撤销权的行使范围以债权人的债权为限。\\n\\n**第五百三十八条** 债务人无偿转让财产，对债权人造成损害的，债权人可以请求人民法院撤销债务人的行为。\\n\\n**第五百三十九条** 债务人以明显不合理的低价转让财产、以明显不合理的高价受让他人财产，或者为他人的债务提供担保，对债权人造成损害，并且受让人知道该情形的，债权人可以请求人民法院撤销债务人的行为。\\n\\n**第五百四十条** 撤销权的行使范围以债权人的债权为限。\\n债权人行使撤销权的必要费用，由债务人负担。\\n\\n**第五百四十一条** 撤销权自债权人知道或者应当知道撤销事由之日起一年内行使。自债务人的行为发生之日起五年内没有行使撤销权的，该撤销权消灭。\\n\\n**第五百四十二条** 当事人互负债务，标的物种类、品质相同的，任何一方可以将自己的债务与对方的债务抵销，但是依照法律规定或者当事人约定不得抵销的除外。\\n当事人主张抵销的，应当通知对方。通知自到达对方时生效。抵销不得附条件或者附期限。\\n\\n**第五百四十三条** 当事人互负债务，标的物种类、品质相同的，任何一方可以将自己的债务与对方的债务抵销，但是依照法律规定或者当事人约定不得抵销的除外。\\n当事人主张抵销的，应当通知对方。通知自到达对方时生效。抵销不得附条件或者附期限。\\n\\n**第五百四十四条** 当事人互负债务，标的物种类、品质相同的，任何一方可以将自己的债务与对方的债务抵销，但是依照法律规定或者当事人约定不得抵销的除外。\\n当事人主张抵销的，应当通知对方。通知自到达对方时生效。抵销不得附条件或者附期限。\\n\\n**第五百四十五条** 当事人互负债务，标的物种类、品质相同的，任何一方可以将自己的债务与对方的债务抵销，但是依照法律规定或者当事人约定不得抵销的除外。\\n当事人主张抵销的，应当通知对方。通知自到达对方时生效。抵销不得附条件或者附期限。\\n\\n**第五百四十六条** 当事人互负债务，标的物种类、品质相同的，任何一方可以将自己的债务与对方的债务抵销，但是依照法律规定或者当事人约定不得抵销的除外。\\n当事人主张抵销的，应当通知对方。通知自到达对方时生效。抵销不得附条件或者附期限。\\n\\n**第五百四十七条** 债务人可以将标的物提存。\\n提存期间，标的物毁损、灭失的风险由债权人承担。提存费用由债权人负担。\\n\\n\\n第三章 合同的变更和转让\\n\\n**第五百四十八条** 当事人协商一致，可以变更合同。\\n\\n**第五百四十九条** 当事人对合同变更的内容约定不明确的，推定为未变更。\\n\\n**第五百五十条** 债权人可以将合同的权利全部或者部分转让给第三人，但是有下列情形之一的除外：\\n（一）根据合同性质不得转让；\\n（二）按照当事人约定不得转让；\\n（三）依照法律规定不得转让。\\n债权人转让权利的，应当通知债务人。未经通知，该转让对债务人不发生效力。\\n\\n**第五百五十一条** 债权人转让权利的，受让人取得与债权有关的从权利，但是该从权利专属于债权人自身的除外。\\n\\n**第五百五十二条** 债务人将合同的义务全部或者部分转让给第三人的，应当经债权人同意。\\n\\n**第五百五十三条** 债务人转让义务的，新债务人可以主张原债务人对债权人的抗辩。\\n新债务人承担债务的，应当承担与主债务有关的从债务，但是该从债务专属于原债务人自身的除外。\\n\\n**第五百五十四条** 当事人一方经对方同意，可以将自己在合同中的权利和义务一并转让给第三人。\\n\\n**第五百五十五条** 权利和义务一并转让的，适用债权转让、债务转让的有关规定。\\n\\n**第五百五十六条** 合同变更的，不影响当事人请求损害赔偿的权利。\\n\\n\\n</context>\\n<question>\\n哪些情形会造成合同的权利义务终止\\n</question>\\n'"
      ]
     },
     "execution_count": 15,
     "metadata": {},
     "output_type": "execute_result"
    }
   ],
   "execution_count": 15
  },
  {
   "cell_type": "code",
   "id": "22d3ea9fe87fdcd4",
   "metadata": {
    "ExecuteTime": {
     "end_time": "2025-08-16T10:23:19.647213Z",
     "start_time": "2025-08-16T10:23:04.976097Z"
    }
   },
   "source": [
    "response = deepseek_client.chat.completions.create(\n",
    "    model=\"deepseek-chat\",\n",
    "    messages=[\n",
    "        {\"role\": \"system\", \"content\": SYSTEM_PROMPT},\n",
    "        {\"role\": \"user\", \"content\": USER_PROMPT},\n",
    "    ],\n",
    ")\n",
    "print(response.choices[0].message.content)"
   ],
   "outputs": [
    {
     "name": "stdout",
     "output_type": "stream",
     "text": [
      "根据《context》中**第五百五十七条**的规定，合同的权利义务在以下情形下终止：  \n",
      "\n",
      "1. **债务已经履行**  \n",
      "2. **合同解除**（包括约定解除或法定解除，如不可抗力、违约等情形）  \n",
      "3. **债务相互抵销**（需标的物种类、品质相同且无禁止抵销约定）  \n",
      "4. **债务人依法将标的物提存**  \n",
      "5. **债权人免除债务**（全部或部分免除）  \n",
      "6. **债权债务同归一人**（即混同，但不得损害第三人利益）  \n",
      "7. **法律规定或当事人约定终止的其他情形**  \n",
      "\n",
      "此外，**第五百六十条**补充说明，若一方依法或依约定解除合同，权利义务也终止。其他条款（如第五百六十二条）进一步细了解除合同的具体情形（如违约、不可抗力等）。\n"
     ]
    }
   ],
   "execution_count": 16
  },
  {
   "cell_type": "code",
   "execution_count": null,
   "id": "7933b5965cb20a30",
   "metadata": {},
   "outputs": [],
   "source": []
  }
 ],
 "metadata": {
  "kernelspec": {
   "display_name": "Python 3 (ipykernel)",
   "language": "python",
   "name": "python3"
  },
  "language_info": {
   "codemirror_mode": {
    "name": "ipython",
    "version": 3
   },
   "file_extension": ".py",
   "mimetype": "text/x-python",
   "name": "python",
   "nbconvert_exporter": "python",
   "pygments_lexer": "ipython3",
   "version": "3.13.5"
  }
 },
 "nbformat": 4,
 "nbformat_minor": 5
}
